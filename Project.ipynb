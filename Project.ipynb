{
 "cells": [
  {
   "cell_type": "markdown",
   "id": "8f1d9321",
   "metadata": {},
   "source": [
    "#                    Laptop Price"
   ]
  },
  {
   "cell_type": "code",
   "execution_count": 41,
   "id": "a79be251",
   "metadata": {},
   "outputs": [],
   "source": [
    "import pandas as pd\n",
    "import numpy as np \n",
    "import matplotlib.pyplot as plt\n",
    "import seaborn as sns"
   ]
  },
  {
   "cell_type": "code",
   "execution_count": 42,
   "id": "f2754615",
   "metadata": {
    "scrolled": false
   },
   "outputs": [
    {
     "name": "stdout",
     "output_type": "stream",
     "text": [
      "Requirement already satisfied: plotly in ./anaconda3/lib/python3.8/site-packages (5.3.1)\n",
      "Requirement already satisfied: six in ./anaconda3/lib/python3.8/site-packages (from plotly) (1.15.0)\n",
      "Requirement already satisfied: tenacity>=6.2.0 in ./anaconda3/lib/python3.8/site-packages (from plotly) (8.0.1)\n",
      "Note: you may need to restart the kernel to use updated packages.\n"
     ]
    }
   ],
   "source": [
    "pip install plotly "
   ]
  },
  {
   "cell_type": "code",
   "execution_count": 43,
   "id": "1e803346",
   "metadata": {},
   "outputs": [],
   "source": [
    "import plotly.express as px"
   ]
  },
  {
   "cell_type": "code",
   "execution_count": 44,
   "id": "00674bca",
   "metadata": {},
   "outputs": [
    {
     "data": {
      "text/html": [
       "<div>\n",
       "<style scoped>\n",
       "    .dataframe tbody tr th:only-of-type {\n",
       "        vertical-align: middle;\n",
       "    }\n",
       "\n",
       "    .dataframe tbody tr th {\n",
       "        vertical-align: top;\n",
       "    }\n",
       "\n",
       "    .dataframe thead th {\n",
       "        text-align: right;\n",
       "    }\n",
       "</style>\n",
       "<table border=\"1\" class=\"dataframe\">\n",
       "  <thead>\n",
       "    <tr style=\"text-align: right;\">\n",
       "      <th></th>\n",
       "      <th>laptop_ID</th>\n",
       "      <th>Company</th>\n",
       "      <th>Product</th>\n",
       "      <th>TypeName</th>\n",
       "      <th>Inches</th>\n",
       "      <th>ScreenResolution</th>\n",
       "      <th>Cpu</th>\n",
       "      <th>Ram</th>\n",
       "      <th>Memory</th>\n",
       "      <th>Gpu</th>\n",
       "      <th>OpSys</th>\n",
       "      <th>Weight</th>\n",
       "      <th>Price_euros</th>\n",
       "    </tr>\n",
       "  </thead>\n",
       "  <tbody>\n",
       "    <tr>\n",
       "      <th>0</th>\n",
       "      <td>1</td>\n",
       "      <td>Apple</td>\n",
       "      <td>MacBook Pro</td>\n",
       "      <td>Ultrabook</td>\n",
       "      <td>13.3</td>\n",
       "      <td>IPS Panel Retina Display 2560x1600</td>\n",
       "      <td>Intel Core i5 2.3GHz</td>\n",
       "      <td>8GB</td>\n",
       "      <td>128GB SSD</td>\n",
       "      <td>Intel Iris Plus Graphics 640</td>\n",
       "      <td>macOS</td>\n",
       "      <td>1.37kg</td>\n",
       "      <td>1339.69</td>\n",
       "    </tr>\n",
       "    <tr>\n",
       "      <th>1</th>\n",
       "      <td>2</td>\n",
       "      <td>Apple</td>\n",
       "      <td>Macbook Air</td>\n",
       "      <td>Ultrabook</td>\n",
       "      <td>13.3</td>\n",
       "      <td>1440x900</td>\n",
       "      <td>Intel Core i5 1.8GHz</td>\n",
       "      <td>8GB</td>\n",
       "      <td>128GB Flash Storage</td>\n",
       "      <td>Intel HD Graphics 6000</td>\n",
       "      <td>macOS</td>\n",
       "      <td>1.34kg</td>\n",
       "      <td>898.94</td>\n",
       "    </tr>\n",
       "    <tr>\n",
       "      <th>2</th>\n",
       "      <td>3</td>\n",
       "      <td>HP</td>\n",
       "      <td>250 G6</td>\n",
       "      <td>Notebook</td>\n",
       "      <td>15.6</td>\n",
       "      <td>Full HD 1920x1080</td>\n",
       "      <td>Intel Core i5 7200U 2.5GHz</td>\n",
       "      <td>8GB</td>\n",
       "      <td>256GB SSD</td>\n",
       "      <td>Intel HD Graphics 620</td>\n",
       "      <td>No OS</td>\n",
       "      <td>1.86kg</td>\n",
       "      <td>575.00</td>\n",
       "    </tr>\n",
       "    <tr>\n",
       "      <th>3</th>\n",
       "      <td>4</td>\n",
       "      <td>Apple</td>\n",
       "      <td>MacBook Pro</td>\n",
       "      <td>Ultrabook</td>\n",
       "      <td>15.4</td>\n",
       "      <td>IPS Panel Retina Display 2880x1800</td>\n",
       "      <td>Intel Core i7 2.7GHz</td>\n",
       "      <td>16GB</td>\n",
       "      <td>512GB SSD</td>\n",
       "      <td>AMD Radeon Pro 455</td>\n",
       "      <td>macOS</td>\n",
       "      <td>1.83kg</td>\n",
       "      <td>2537.45</td>\n",
       "    </tr>\n",
       "    <tr>\n",
       "      <th>4</th>\n",
       "      <td>5</td>\n",
       "      <td>Apple</td>\n",
       "      <td>MacBook Pro</td>\n",
       "      <td>Ultrabook</td>\n",
       "      <td>13.3</td>\n",
       "      <td>IPS Panel Retina Display 2560x1600</td>\n",
       "      <td>Intel Core i5 3.1GHz</td>\n",
       "      <td>8GB</td>\n",
       "      <td>256GB SSD</td>\n",
       "      <td>Intel Iris Plus Graphics 650</td>\n",
       "      <td>macOS</td>\n",
       "      <td>1.37kg</td>\n",
       "      <td>1803.60</td>\n",
       "    </tr>\n",
       "  </tbody>\n",
       "</table>\n",
       "</div>"
      ],
      "text/plain": [
       "   laptop_ID Company      Product   TypeName  Inches  \\\n",
       "0          1   Apple  MacBook Pro  Ultrabook    13.3   \n",
       "1          2   Apple  Macbook Air  Ultrabook    13.3   \n",
       "2          3      HP       250 G6   Notebook    15.6   \n",
       "3          4   Apple  MacBook Pro  Ultrabook    15.4   \n",
       "4          5   Apple  MacBook Pro  Ultrabook    13.3   \n",
       "\n",
       "                     ScreenResolution                         Cpu   Ram  \\\n",
       "0  IPS Panel Retina Display 2560x1600        Intel Core i5 2.3GHz   8GB   \n",
       "1                            1440x900        Intel Core i5 1.8GHz   8GB   \n",
       "2                   Full HD 1920x1080  Intel Core i5 7200U 2.5GHz   8GB   \n",
       "3  IPS Panel Retina Display 2880x1800        Intel Core i7 2.7GHz  16GB   \n",
       "4  IPS Panel Retina Display 2560x1600        Intel Core i5 3.1GHz   8GB   \n",
       "\n",
       "                Memory                           Gpu  OpSys  Weight  \\\n",
       "0            128GB SSD  Intel Iris Plus Graphics 640  macOS  1.37kg   \n",
       "1  128GB Flash Storage        Intel HD Graphics 6000  macOS  1.34kg   \n",
       "2            256GB SSD         Intel HD Graphics 620  No OS  1.86kg   \n",
       "3            512GB SSD            AMD Radeon Pro 455  macOS  1.83kg   \n",
       "4            256GB SSD  Intel Iris Plus Graphics 650  macOS  1.37kg   \n",
       "\n",
       "   Price_euros  \n",
       "0      1339.69  \n",
       "1       898.94  \n",
       "2       575.00  \n",
       "3      2537.45  \n",
       "4      1803.60  "
      ]
     },
     "execution_count": 44,
     "metadata": {},
     "output_type": "execute_result"
    }
   ],
   "source": [
    "df= pd.read_csv('laptop_price.csv')\n",
    "df.head()"
   ]
  },
  {
   "cell_type": "code",
   "execution_count": 45,
   "id": "2b3d30eb",
   "metadata": {},
   "outputs": [
    {
     "name": "stdout",
     "output_type": "stream",
     "text": [
      "<class 'pandas.core.frame.DataFrame'>\n",
      "RangeIndex: 1303 entries, 0 to 1302\n",
      "Data columns (total 13 columns):\n",
      " #   Column            Non-Null Count  Dtype  \n",
      "---  ------            --------------  -----  \n",
      " 0   laptop_ID         1303 non-null   int64  \n",
      " 1   Company           1303 non-null   object \n",
      " 2   Product           1303 non-null   object \n",
      " 3   TypeName          1303 non-null   object \n",
      " 4   Inches            1303 non-null   float64\n",
      " 5   ScreenResolution  1303 non-null   object \n",
      " 6   Cpu               1303 non-null   object \n",
      " 7   Ram               1303 non-null   object \n",
      " 8   Memory            1303 non-null   object \n",
      " 9   Gpu               1303 non-null   object \n",
      " 10  OpSys             1303 non-null   object \n",
      " 11  Weight            1303 non-null   object \n",
      " 12  Price_euros       1303 non-null   float64\n",
      "dtypes: float64(2), int64(1), object(10)\n",
      "memory usage: 132.5+ KB\n"
     ]
    }
   ],
   "source": [
    "df.info()"
   ]
  },
  {
   "cell_type": "markdown",
   "id": "db35e667",
   "metadata": {},
   "source": [
    "### Visualize data"
   ]
  },
  {
   "cell_type": "code",
   "execution_count": 46,
   "id": "39b9db98",
   "metadata": {},
   "outputs": [
    {
     "data": {
      "text/plain": [
       "Index(['laptop_ID', 'Company', 'Product', 'TypeName', 'Inches',\n",
       "       'ScreenResolution', 'Cpu', 'Ram', 'Memory', 'Gpu', 'OpSys', 'Weight',\n",
       "       'Price_euros'],\n",
       "      dtype='object')"
      ]
     },
     "execution_count": 46,
     "metadata": {},
     "output_type": "execute_result"
    }
   ],
   "source": [
    "df.columns"
   ]
  },
  {
   "cell_type": "code",
   "execution_count": 47,
   "id": "6e972243",
   "metadata": {},
   "outputs": [
    {
     "data": {
      "text/plain": [
       "Lenovo       297\n",
       "Dell         297\n",
       "HP           274\n",
       "Asus         158\n",
       "Acer         103\n",
       "MSI           54\n",
       "Toshiba       48\n",
       "Apple         21\n",
       "Samsung        9\n",
       "Mediacom       7\n",
       "Razer          7\n",
       "Microsoft      6\n",
       "Xiaomi         4\n",
       "Vero           4\n",
       "Fujitsu        3\n",
       "LG             3\n",
       "Chuwi          3\n",
       "Google         3\n",
       "Huawei         2\n",
       "Name: Company, dtype: int64"
      ]
     },
     "execution_count": 47,
     "metadata": {},
     "output_type": "execute_result"
    }
   ],
   "source": [
    "a=df['Company'].value_counts()\n",
    "a"
   ]
  },
  {
   "cell_type": "code",
   "execution_count": 48,
   "id": "25e95ca6",
   "metadata": {},
   "outputs": [
    {
     "data": {
      "application/vnd.plotly.v1+json": {
       "config": {
        "plotlyServerURL": "https://plot.ly"
       },
       "data": [
        {
         "hovertemplate": "Company=%{x}<br>Price_euros=%{y}<extra></extra>",
         "legendgroup": "",
         "marker": {
          "color": "#636efa",
          "opacity": 0.6,
          "size": 6,
          "symbol": "circle"
         },
         "mode": "markers",
         "name": "",
         "showlegend": false,
         "type": "scattergl",
         "x": [
          "Apple",
          "Apple",
          "HP",
          "Apple",
          "Apple",
          "Acer",
          "Apple",
          "Apple",
          "Asus",
          "Acer",
          "HP",
          "HP",
          "Apple",
          "Dell",
          "Apple",
          "Apple",
          "Dell",
          "Apple",
          "Lenovo",
          "Dell",
          "Asus",
          "Lenovo",
          "HP",
          "Dell",
          "HP",
          "Dell",
          "Apple",
          "Dell",
          "Dell",
          "HP",
          "Chuwi",
          "Asus",
          "HP",
          "Dell",
          "Apple",
          "Lenovo",
          "Acer",
          "Dell",
          "HP",
          "HP",
          "Asus",
          "Dell",
          "Asus",
          "Acer",
          "Dell",
          "Apple",
          "Lenovo",
          "Asus",
          "Dell",
          "Asus",
          "Lenovo",
          "Acer",
          "HP",
          "HP",
          "Acer",
          "Dell",
          "HP",
          "Asus",
          "MSI",
          "Asus",
          "Dell",
          "Dell",
          "Lenovo",
          "Asus",
          "HP",
          "Asus",
          "HP",
          "HP",
          "Lenovo",
          "Asus",
          "Microsoft",
          "Dell",
          "Dell",
          "MSI",
          "Acer",
          "Asus",
          "Lenovo",
          "Dell",
          "Acer",
          "HP",
          "Dell",
          "Apple",
          "HP",
          "Lenovo",
          "Acer",
          "Dell",
          "HP",
          "HP",
          "Asus",
          "Dell",
          "Asus",
          "Acer",
          "HP",
          "Dell",
          "Asus",
          "Acer",
          "Dell",
          "Dell",
          "Asus",
          "HP",
          "HP",
          "HP",
          "Dell",
          "HP",
          "Microsoft",
          "HP",
          "Lenovo",
          "Asus",
          "MSI",
          "Lenovo",
          "Asus",
          "Dell",
          "Lenovo",
          "HP",
          "Dell",
          "HP",
          "HP",
          "Dell",
          "Asus",
          "Asus",
          "Acer",
          "MSI",
          "Lenovo",
          "HP",
          "Acer",
          "HP",
          "HP",
          "Asus",
          "Dell",
          "HP",
          "Dell",
          "Dell",
          "Acer",
          "Acer",
          "HP",
          "HP",
          "Lenovo",
          "Asus",
          "Lenovo",
          "HP",
          "Acer",
          "Lenovo",
          "Lenovo",
          "Toshiba",
          "HP",
          "Asus",
          "HP",
          "Asus",
          "MSI",
          "Acer",
          "Dell",
          "Dell",
          "Lenovo",
          "MSI",
          "HP",
          "HP",
          "Lenovo",
          "Asus",
          "Dell",
          "Toshiba",
          "Asus",
          "Acer",
          "Dell",
          "Lenovo",
          "Acer",
          "MSI",
          "Acer",
          "Dell",
          "Acer",
          "HP",
          "Huawei",
          "HP",
          "Lenovo",
          "Toshiba",
          "HP",
          "Dell",
          "Acer",
          "MSI",
          "Lenovo",
          "HP",
          "Dell",
          "Dell",
          "Lenovo",
          "Toshiba",
          "Xiaomi",
          "Dell",
          "Dell",
          "Lenovo",
          "Acer",
          "Dell",
          "Lenovo",
          "Vero",
          "Xiaomi",
          "Lenovo",
          "Dell",
          "HP",
          "Razer",
          "HP",
          "HP",
          "HP",
          "Dell",
          "Lenovo",
          "Acer",
          "Lenovo",
          "Dell",
          "Lenovo",
          "Dell",
          "Dell",
          "Dell",
          "Lenovo",
          "Acer",
          "Asus",
          "HP",
          "Lenovo",
          "Huawei",
          "Dell",
          "Lenovo",
          "HP",
          "Dell",
          "Dell",
          "Dell",
          "Lenovo",
          "Toshiba",
          "HP",
          "Dell",
          "Acer",
          "Dell",
          "Asus",
          "Asus",
          "HP",
          "Asus",
          "HP",
          "Lenovo",
          "Dell",
          "Acer",
          "Dell",
          "Acer",
          "Asus",
          "Asus",
          "Acer",
          "Lenovo",
          "Asus",
          "Asus",
          "Dell",
          "Lenovo",
          "Dell",
          "HP",
          "Asus",
          "HP",
          "Apple",
          "Dell",
          "Asus",
          "Asus",
          "Lenovo",
          "Acer",
          "Dell",
          "HP",
          "HP",
          "MSI",
          "Lenovo",
          "Dell",
          "Lenovo",
          "HP",
          "Dell",
          "Dell",
          "Dell",
          "Asus",
          "Lenovo",
          "HP",
          "Lenovo",
          "Apple",
          "Asus",
          "Dell",
          "Lenovo",
          "Toshiba",
          "Dell",
          "Dell",
          "Acer",
          "Lenovo",
          "Lenovo",
          "Lenovo",
          "Dell",
          "Lenovo",
          "Lenovo",
          "Acer",
          "Acer",
          "Lenovo",
          "Asus",
          "Lenovo",
          "Lenovo",
          "Acer",
          "Asus",
          "HP",
          "Dell",
          "Lenovo",
          "Lenovo",
          "Acer",
          "Dell",
          "Lenovo",
          "Asus",
          "Asus",
          "Asus",
          "Lenovo",
          "Lenovo",
          "Asus",
          "Lenovo",
          "HP",
          "Toshiba",
          "Lenovo",
          "HP",
          "Lenovo",
          "Dell",
          "MSI",
          "Acer",
          "Asus",
          "Dell",
          "HP",
          "Lenovo",
          "HP",
          "Acer",
          "HP",
          "Lenovo",
          "Asus",
          "HP",
          "Acer",
          "Lenovo",
          "Acer",
          "Asus",
          "HP",
          "Dell",
          "MSI",
          "Toshiba",
          "Asus",
          "Lenovo",
          "Asus",
          "HP",
          "Dell",
          "HP",
          "Asus",
          "Dell",
          "Dell",
          "Lenovo",
          "HP",
          "Lenovo",
          "Dell",
          "Lenovo",
          "HP",
          "Dell",
          "Asus",
          "Dell",
          "Dell",
          "HP",
          "MSI",
          "HP",
          "Toshiba",
          "Dell",
          "Lenovo",
          "Dell",
          "Dell",
          "Dell",
          "HP",
          "Asus",
          "Lenovo",
          "HP",
          "Lenovo",
          "HP",
          "Dell",
          "Lenovo",
          "Dell",
          "HP",
          "Asus",
          "Acer",
          "Asus",
          "Lenovo",
          "Dell",
          "HP",
          "Lenovo",
          "Dell",
          "Asus",
          "Acer",
          "HP",
          "Lenovo",
          "Asus",
          "Lenovo",
          "Asus",
          "Lenovo",
          "Lenovo",
          "Dell",
          "Dell",
          "Lenovo",
          "Asus",
          "Asus",
          "Acer",
          "MSI",
          "Dell",
          "HP",
          "Lenovo",
          "Lenovo",
          "Dell",
          "Lenovo",
          "Lenovo",
          "Asus",
          "Lenovo",
          "Acer",
          "MSI",
          "Asus",
          "Toshiba",
          "Dell",
          "Lenovo",
          "Lenovo",
          "Lenovo",
          "Lenovo",
          "HP",
          "Acer",
          "Asus",
          "Dell",
          "Dell",
          "HP",
          "Dell",
          "Lenovo",
          "Lenovo",
          "Chuwi",
          "HP",
          "Asus",
          "Dell",
          "Dell",
          "Dell",
          "Dell",
          "HP",
          "Mediacom",
          "Samsung",
          "Lenovo",
          "Lenovo",
          "Lenovo",
          "Lenovo",
          "Asus",
          "HP",
          "Google",
          "Lenovo",
          "Asus",
          "Lenovo",
          "Dell",
          "Lenovo",
          "Lenovo",
          "HP",
          "Dell",
          "Acer",
          "Dell",
          "MSI",
          "Microsoft",
          "HP",
          "Dell",
          "HP",
          "Lenovo",
          "Dell",
          "Dell",
          "Dell",
          "Microsoft",
          "Microsoft",
          "HP",
          "Acer",
          "Acer",
          "Asus",
          "Lenovo",
          "Lenovo",
          "Asus",
          "Acer",
          "Dell",
          "HP",
          "Lenovo",
          "HP",
          "HP",
          "Google",
          "Dell",
          "Asus",
          "Dell",
          "Dell",
          "Lenovo",
          "Dell",
          "Toshiba",
          "Dell",
          "Dell",
          "HP",
          "Chuwi",
          "Lenovo",
          "Lenovo",
          "Dell",
          "Dell",
          "Lenovo",
          "Asus",
          "Lenovo",
          "Toshiba",
          "Asus",
          "Acer",
          "Asus",
          "Lenovo",
          "Lenovo",
          "HP",
          "Lenovo",
          "Lenovo",
          "Asus",
          "HP",
          "Lenovo",
          "Lenovo",
          "Lenovo",
          "Lenovo",
          "Asus",
          "Acer",
          "HP",
          "Lenovo",
          "Dell",
          "Acer",
          "Dell",
          "Dell",
          "Xiaomi",
          "Asus",
          "HP",
          "Asus",
          "HP",
          "Asus",
          "Lenovo",
          "HP",
          "Dell",
          "HP",
          "Dell",
          "Lenovo",
          "Lenovo",
          "Lenovo",
          "Dell",
          "Dell",
          "Dell",
          "Toshiba",
          "Asus",
          "Mediacom",
          "Asus",
          "Dell",
          "Dell",
          "HP",
          "HP",
          "Lenovo",
          "Dell",
          "Dell",
          "HP",
          "Acer",
          "Asus",
          "HP",
          "Lenovo",
          "Lenovo",
          "HP",
          "Lenovo",
          "Lenovo",
          "Dell",
          "Dell",
          "HP",
          "HP",
          "Asus",
          "Mediacom",
          "Lenovo",
          "HP",
          "Dell",
          "Acer",
          "Lenovo",
          "HP",
          "Lenovo",
          "Asus",
          "Dell",
          "Dell",
          "Fujitsu",
          "Lenovo",
          "Lenovo",
          "HP",
          "HP",
          "HP",
          "Lenovo",
          "Lenovo",
          "Mediacom",
          "Toshiba",
          "Lenovo",
          "MSI",
          "Dell",
          "Mediacom",
          "Dell",
          "HP",
          "Dell",
          "Dell",
          "MSI",
          "HP",
          "Lenovo",
          "Lenovo",
          "Asus",
          "Asus",
          "Lenovo",
          "Dell",
          "Samsung",
          "Lenovo",
          "Lenovo",
          "Lenovo",
          "Lenovo",
          "Dell",
          "Dell",
          "HP",
          "HP",
          "Acer",
          "MSI",
          "Dell",
          "MSI",
          "Toshiba",
          "Lenovo",
          "Lenovo",
          "Acer",
          "Lenovo",
          "Dell",
          "Dell",
          "Dell",
          "Dell",
          "Asus",
          "Dell",
          "HP",
          "MSI",
          "Acer",
          "HP",
          "Lenovo",
          "Dell",
          "Fujitsu",
          "HP",
          "Lenovo",
          "Mediacom",
          "Lenovo",
          "Asus",
          "Dell",
          "Asus",
          "Dell",
          "Lenovo",
          "Lenovo",
          "Asus",
          "Asus",
          "Dell",
          "Lenovo",
          "Lenovo",
          "Dell",
          "Lenovo",
          "HP",
          "Lenovo",
          "Asus",
          "Acer",
          "Lenovo",
          "Acer",
          "Razer",
          "Toshiba",
          "Lenovo",
          "Asus",
          "Acer",
          "Dell",
          "MSI",
          "HP",
          "Toshiba",
          "Dell",
          "Dell",
          "Lenovo",
          "Dell",
          "Dell",
          "Lenovo",
          "Lenovo",
          "HP",
          "MSI",
          "Toshiba",
          "Dell",
          "HP",
          "Toshiba",
          "Acer",
          "Microsoft",
          "Lenovo",
          "Lenovo",
          "Lenovo",
          "HP",
          "MSI",
          "Asus",
          "HP",
          "LG",
          "Acer",
          "MSI",
          "Asus",
          "Dell",
          "HP",
          "Lenovo",
          "Dell",
          "HP",
          "Dell",
          "HP",
          "Lenovo",
          "Acer",
          "Lenovo",
          "HP",
          "Lenovo",
          "Toshiba",
          "Acer",
          "Lenovo",
          "Asus",
          "Toshiba",
          "HP",
          "Dell",
          "Lenovo",
          "Lenovo",
          "Lenovo",
          "Lenovo",
          "Dell",
          "Acer",
          "Lenovo",
          "Lenovo",
          "HP",
          "Lenovo",
          "Dell",
          "Dell",
          "Asus",
          "Dell",
          "Lenovo",
          "Dell",
          "Lenovo",
          "Mediacom",
          "HP",
          "Lenovo",
          "HP",
          "Lenovo",
          "Dell",
          "MSI",
          "Lenovo",
          "Dell",
          "Dell",
          "Dell",
          "HP",
          "Acer",
          "Dell",
          "HP",
          "Acer",
          "Lenovo",
          "Lenovo",
          "HP",
          "Dell",
          "MSI",
          "Acer",
          "Dell",
          "Dell",
          "Toshiba",
          "Lenovo",
          "Lenovo",
          "Acer",
          "Samsung",
          "HP",
          "Dell",
          "HP",
          "Lenovo",
          "HP",
          "Asus",
          "Lenovo",
          "Asus",
          "Lenovo",
          "HP",
          "HP",
          "Dell",
          "Acer",
          "Lenovo",
          "Dell",
          "Google",
          "Asus",
          "Dell",
          "Acer",
          "Asus",
          "Dell",
          "Samsung",
          "Acer",
          "Dell",
          "Samsung",
          "Toshiba",
          "Dell",
          "HP",
          "Asus",
          "Lenovo",
          "Acer",
          "Razer",
          "Asus",
          "Dell",
          "Asus",
          "Toshiba",
          "Lenovo",
          "Lenovo",
          "MSI",
          "MSI",
          "Lenovo",
          "Acer",
          "Dell",
          "Asus",
          "Vero",
          "Lenovo",
          "Lenovo",
          "Apple",
          "Lenovo",
          "Asus",
          "Dell",
          "Lenovo",
          "Dell",
          "HP",
          "Asus",
          "Dell",
          "Dell",
          "Dell",
          "HP",
          "Toshiba",
          "HP",
          "Dell",
          "Lenovo",
          "HP",
          "MSI",
          "Samsung",
          "Dell",
          "Dell",
          "Lenovo",
          "Razer",
          "HP",
          "Dell",
          "Dell",
          "Lenovo",
          "Toshiba",
          "Lenovo",
          "MSI",
          "Lenovo",
          "Toshiba",
          "Asus",
          "Dell",
          "Acer",
          "Acer",
          "Razer",
          "Lenovo",
          "Asus",
          "Lenovo",
          "Lenovo",
          "Dell",
          "Asus",
          "Toshiba",
          "Lenovo",
          "Asus",
          "Asus",
          "Dell",
          "HP",
          "Dell",
          "HP",
          "Dell",
          "HP",
          "Asus",
          "HP",
          "HP",
          "HP",
          "Asus",
          "Dell",
          "Lenovo",
          "Asus",
          "Dell",
          "Asus",
          "HP",
          "Dell",
          "Lenovo",
          "Lenovo",
          "HP",
          "Toshiba",
          "Lenovo",
          "Dell",
          "HP",
          "Toshiba",
          "Lenovo",
          "Acer",
          "Dell",
          "Lenovo",
          "Lenovo",
          "Toshiba",
          "Lenovo",
          "Samsung",
          "Dell",
          "Asus",
          "Xiaomi",
          "Dell",
          "HP",
          "HP",
          "HP",
          "Asus",
          "Lenovo",
          "Dell",
          "HP",
          "Dell",
          "Asus",
          "Acer",
          "Lenovo",
          "HP",
          "HP",
          "Samsung",
          "Lenovo",
          "MSI",
          "Toshiba",
          "Dell",
          "HP",
          "Dell",
          "Dell",
          "Dell",
          "Asus",
          "Dell",
          "Lenovo",
          "Lenovo",
          "LG",
          "HP",
          "Acer",
          "Lenovo",
          "LG",
          "Dell",
          "HP",
          "Lenovo",
          "HP",
          "Acer",
          "Lenovo",
          "HP",
          "MSI",
          "Dell",
          "MSI",
          "Dell",
          "HP",
          "HP",
          "Toshiba",
          "Lenovo",
          "Dell",
          "Lenovo",
          "HP",
          "Dell",
          "HP",
          "Lenovo",
          "HP",
          "HP",
          "Lenovo",
          "Toshiba",
          "HP",
          "Dell",
          "MSI",
          "Dell",
          "Dell",
          "HP",
          "Asus",
          "Acer",
          "Toshiba",
          "Lenovo",
          "Lenovo",
          "Dell",
          "Lenovo",
          "Dell",
          "Acer",
          "HP",
          "Dell",
          "Toshiba",
          "Asus",
          "Lenovo",
          "Dell",
          "Dell",
          "HP",
          "Dell",
          "Acer",
          "Toshiba",
          "Lenovo",
          "Acer",
          "Toshiba",
          "HP",
          "Dell",
          "Dell",
          "HP",
          "Dell",
          "Lenovo",
          "Dell",
          "Dell",
          "Dell",
          "Toshiba",
          "Asus",
          "HP",
          "Lenovo",
          "Asus",
          "HP",
          "Asus",
          "Dell",
          "Toshiba",
          "Lenovo",
          "Fujitsu",
          "Toshiba",
          "Dell",
          "HP",
          "Lenovo",
          "Dell",
          "Dell",
          "HP",
          "HP",
          "Lenovo",
          "Lenovo",
          "Dell",
          "Asus",
          "HP",
          "Acer",
          "Asus",
          "HP",
          "Acer",
          "HP",
          "Dell",
          "HP",
          "Toshiba",
          "HP",
          "HP",
          "HP",
          "HP",
          "HP",
          "Dell",
          "HP",
          "HP",
          "HP",
          "HP",
          "Toshiba",
          "HP",
          "Lenovo",
          "Toshiba",
          "HP",
          "Dell",
          "Toshiba",
          "HP",
          "HP",
          "Dell",
          "HP",
          "HP",
          "HP",
          "Dell",
          "HP",
          "HP",
          "Acer",
          "MSI",
          "HP",
          "HP",
          "HP",
          "HP",
          "Toshiba",
          "Dell",
          "HP",
          "Lenovo",
          "Vero",
          "Toshiba",
          "Lenovo",
          "HP",
          "HP",
          "HP",
          "MSI",
          "Lenovo",
          "Asus",
          "Lenovo",
          "HP",
          "Dell",
          "HP",
          "Dell",
          "HP",
          "HP",
          "Acer",
          "Dell",
          "MSI",
          "HP",
          "Asus",
          "Dell",
          "Dell",
          "MSI",
          "Dell",
          "Asus",
          "Dell",
          "Dell",
          "Apple",
          "Dell",
          "HP",
          "HP",
          "HP",
          "Lenovo",
          "Lenovo",
          "Lenovo",
          "MSI",
          "Lenovo",
          "HP",
          "Lenovo",
          "Lenovo",
          "Lenovo",
          "HP",
          "Dell",
          "HP",
          "HP",
          "Lenovo",
          "HP",
          "Acer",
          "Dell",
          "HP",
          "Asus",
          "Dell",
          "HP",
          "Acer",
          "Dell",
          "MSI",
          "HP",
          "Asus",
          "Dell",
          "Dell",
          "Acer",
          "HP",
          "Lenovo",
          "Dell",
          "MSI",
          "Lenovo",
          "HP",
          "Asus",
          "HP",
          "Dell",
          "Lenovo",
          "HP",
          "Lenovo",
          "Dell",
          "Lenovo",
          "Razer",
          "Toshiba",
          "Asus",
          "Vero",
          "HP",
          "HP",
          "Dell",
          "Asus",
          "Lenovo",
          "Lenovo",
          "HP",
          "Lenovo",
          "HP",
          "HP",
          "Lenovo",
          "Asus",
          "HP",
          "Acer",
          "Lenovo",
          "HP",
          "Dell",
          "MSI",
          "HP",
          "Lenovo",
          "MSI",
          "HP",
          "HP",
          "HP",
          "HP",
          "HP",
          "Dell",
          "HP",
          "Lenovo",
          "Lenovo",
          "HP",
          "Lenovo",
          "Dell",
          "Dell",
          "HP",
          "MSI",
          "Lenovo",
          "Lenovo",
          "HP",
          "Lenovo",
          "MSI",
          "HP",
          "Lenovo",
          "HP",
          "Dell",
          "Lenovo",
          "Lenovo",
          "HP",
          "MSI",
          "HP",
          "HP",
          "Asus",
          "Lenovo",
          "Lenovo",
          "Asus",
          "Lenovo",
          "Lenovo",
          "MSI",
          "HP",
          "Lenovo",
          "Lenovo",
          "Dell",
          "Acer",
          "HP",
          "Asus",
          "Dell",
          "Acer",
          "Dell",
          "Acer",
          "Lenovo",
          "Samsung",
          "HP",
          "Apple",
          "Dell",
          "HP",
          "Lenovo",
          "Asus",
          "Acer",
          "MSI",
          "Dell",
          "Lenovo",
          "Dell",
          "Dell",
          "Asus",
          "Dell",
          "HP",
          "Lenovo",
          "Acer",
          "Asus",
          "Apple",
          "Asus",
          "MSI",
          "Dell",
          "Asus",
          "Acer",
          "Acer",
          "Lenovo",
          "Lenovo",
          "Acer",
          "Lenovo",
          "MSI",
          "HP",
          "Dell",
          "Dell",
          "Asus",
          "Dell",
          "Dell",
          "Lenovo",
          "MSI",
          "Lenovo",
          "Razer",
          "Dell",
          "MSI",
          "Apple",
          "HP",
          "HP",
          "Dell",
          "MSI",
          "Lenovo",
          "Lenovo",
          "Asus",
          "Acer",
          "Dell",
          "HP",
          "Asus",
          "Dell",
          "Asus",
          "Lenovo",
          "Dell",
          "Dell",
          "HP",
          "Lenovo",
          "Lenovo",
          "Dell",
          "Asus",
          "Asus",
          "Dell",
          "Lenovo",
          "MSI",
          "Lenovo",
          "Asus",
          "Dell",
          "Acer",
          "Dell",
          "Lenovo",
          "HP",
          "Dell",
          "HP",
          "Asus",
          "Lenovo",
          "Lenovo",
          "Lenovo",
          "HP",
          "Asus",
          "Asus",
          "Dell",
          "Acer",
          "Dell",
          "Lenovo",
          "HP",
          "Dell",
          "HP",
          "Asus",
          "Lenovo",
          "Lenovo",
          "Lenovo",
          "HP",
          "Asus",
          "Asus",
          "Dell",
          "Acer",
          "Dell",
          "Lenovo",
          "HP",
          "Dell",
          "HP",
          "Asus",
          "Lenovo",
          "Lenovo",
          "Lenovo",
          "HP",
          "Asus"
         ],
         "xaxis": "x",
         "y": [
          1339.69,
          898.94,
          575,
          2537.45,
          1803.6,
          400,
          2139.97,
          1158.7,
          1495,
          770,
          393.9,
          344.99,
          2439.97,
          498.9,
          1262.4,
          1518.55,
          745,
          2858,
          499,
          979,
          191.9,
          999,
          258,
          819,
          659,
          418.64,
          1099,
          800,
          1298,
          896,
          244.99,
          199,
          439,
          1869,
          998,
          249,
          367,
          979,
          488.69,
          879,
          389,
          1499,
          522.99,
          682,
          999,
          1419,
          369,
          1299,
          639,
          466,
          319,
          841,
          398.49,
          1103,
          384,
          767.8,
          439,
          586.19,
          2449,
          415,
          1299,
          879,
          599,
          941,
          690,
          1983,
          438.69,
          229,
          549,
          949,
          1089,
          955,
          870,
          1095,
          389,
          949,
          519,
          855,
          530,
          977,
          1096.16,
          1510,
          860,
          399,
          395,
          1349,
          699,
          598.99,
          1449,
          1649,
          699,
          689,
          1197,
          1195,
          1049,
          847,
          599.9,
          485,
          577,
          1249,
          719,
          349,
          647,
          1119,
          1340,
          659,
          414.9,
          1193,
          1299,
          1480,
          1262,
          1379,
          1399,
          722,
          1629,
          1398.99,
          1084,
          1130.33,
          564,
          1118,
          479,
          2241.5,
          629,
          1271,
          451,
          259,
          812,
          277.99,
          1396,
          928,
          638.99,
          449,
          884,
          572,
          598,
          988,
          252.36,
          938,
          499,
          699,
          655,
          1116.02,
          869,
          602,
          369,
          1099,
          2014,
          344,
          2029,
          447,
          1249.26,
          899,
          498,
          1890,
          1082,
          619,
          629,
          1315,
          1049,
          447,
          403,
          805,
          728,
          1079,
          348,
          1799,
          363.51,
          1060.49,
          854,
          754,
          1349,
          699,
          309,
          489,
          923,
          459,
          449,
          2799,
          813,
          1499,
          1049,
          1399,
          1849,
          793,
          1199,
          1549,
          2397,
          779,
          989,
          1085,
          2824,
          260,
          999.9,
          698,
          839,
          914,
          6099,
          959,
          1379,
          1045,
          1845,
          493,
          742,
          1749,
          3055,
          1398,
          439,
          1949,
          1449,
          597,
          779,
          1407,
          349,
          549,
          1499,
          931.88,
          589,
          1031,
          1149,
          1279,
          677.35,
          899,
          1363,
          794,
          2456.34,
          832,
          859.01,
          769,
          891,
          1269,
          398.99,
          330,
          1499,
          859,
          689,
          899,
          390,
          575,
          3890,
          846,
          589,
          1145,
          889,
          879,
          1079,
          985,
          559,
          2999,
          675,
          2040,
          819,
          1799,
          469,
          1849,
          702,
          949,
          445.9,
          1059,
          2499,
          1699,
          1142,
          444,
          722,
          657,
          565,
          799,
          1499,
          467,
          1018,
          880,
          1958.9,
          1549,
          735.07,
          2499,
          812,
          713.07,
          1099,
          745,
          489,
          849,
          859,
          428,
          829,
          579,
          951,
          659,
          1097,
          977,
          1179,
          659.01,
          199,
          1187,
          489,
          1829,
          739,
          1299,
          979,
          2884.86,
          499,
          1468,
          509,
          2122,
          649,
          549,
          1265,
          359.99,
          1975,
          1043,
          819,
          469,
          999,
          2499,
          2099,
          469,
          275,
          844,
          2449,
          459.9,
          980,
          485,
          1292,
          589,
          1094,
          902,
          659,
          292,
          549,
          1049.9,
          1335,
          2639,
          1199,
          943,
          1334,
          449,
          999,
          1268,
          1049,
          1144,
          274.99,
          1142.75,
          274.9,
          899,
          716,
          2099,
          1579,
          1129,
          279,
          1607.96,
          375,
          663,
          2027.42,
          1304,
          1409,
          1738.27,
          1403,
          970.9,
          321.99,
          999,
          557.37,
          1427,
          439,
          945,
          719,
          639,
          499,
          389,
          1085,
          809,
          899,
          1750,
          1099,
          426,
          2199,
          489,
          869.01,
          488.99,
          553,
          309,
          286,
          846,
          1191,
          403.5,
          1655,
          1099,
          1748.9,
          2282,
          549,
          1369,
          2135,
          2509,
          1039,
          1591,
          693.99,
          1349,
          778.87,
          499,
          1229.56,
          938,
          2712,
          2625,
          306,
          1529,
          1144.5,
          879,
          2249,
          1873,
          1747,
          1680,
          409,
          304.45,
          1925,
          1943,
          469,
          789.01,
          928,
          598.9,
          689,
          1500,
          539.95,
          1215.38,
          1899,
          449,
          1427,
          597,
          2799,
          1159,
          1142.4,
          1099,
          1999,
          299,
          269,
          1010,
          599,
          2445,
          2449,
          1695,
          347,
          2199,
          2382,
          559,
          519,
          749,
          1429,
          349,
          1099,
          1179,
          441.8,
          1993,
          1027.74,
          2589,
          589,
          1975,
          1534,
          1345,
          979,
          479,
          2046,
          989,
          1799,
          639.9,
          544,
          435,
          749,
          799,
          2090,
          304,
          469,
          759,
          1699,
          1858,
          1999,
          1154,
          1275,
          1841.85,
          1299,
          740,
          2408,
          1364,
          675,
          1672,
          1262,
          586.6,
          726,
          248.9,
          565,
          1049,
          2338,
          1899,
          1798,
          1950,
          1011.99,
          2799,
          1350,
          579,
          1269,
          1099,
          898.9,
          1749,
          949,
          911,
          340,
          618.99,
          1599,
          299,
          265,
          949,
          1224,
          613,
          1323,
          1149,
          899,
          639,
          836,
          1219.24,
          1399.95,
          245,
          521.47,
          2968,
          889,
          1504,
          1399,
          1399,
          1279.73,
          689,
          889,
          1340,
          799,
          459,
          585,
          1377,
          3012.77,
          860,
          1299,
          369,
          1649,
          1369,
          797.41,
          398.99,
          1799,
          859,
          1399,
          735.87,
          1145,
          798,
          349,
          705.5,
          785,
          462.35,
          397,
          1729,
          499,
          1116.99,
          2699,
          544.15,
          1280,
          224,
          255,
          949,
          568.9,
          617.9,
          349,
          630,
          1965,
          2999,
          839,
          1599,
          959,
          739,
          344,
          990,
          1860.99,
          389,
          649,
          830,
          685,
          249,
          1865,
          2663,
          2729,
          749.01,
          389,
          1008.52,
          719,
          1537.39,
          295,
          2349,
          1498,
          1673,
          609,
          1770,
          739,
          949,
          603,
          1699,
          529,
          459,
          2025,
          1474,
          1670,
          1763,
          1219,
          668.48,
          329,
          2199,
          465,
          2299,
          1399,
          564,
          1299,
          349,
          4899,
          879.01,
          443.9,
          359,
          869,
          1168,
          569,
          1389,
          2267.86,
          379,
          1124,
          1465,
          776,
          799,
          932,
          899,
          239,
          468,
          639.01,
          1820,
          1900,
          1479,
          829,
          579,
          399,
          906.62,
          1869,
          249,
          1757.42,
          2399,
          1109,
          520.9,
          2450,
          1169,
          450,
          274,
          919,
          2599,
          1213,
          1584,
          2799,
          709,
          1449.9,
          1191.8,
          364.9,
          1064,
          919,
          1135,
          1196,
          3147.37,
          1229,
          419,
          535,
          539,
          1486.77,
          498,
          955,
          745,
          1258,
          412,
          1867.85,
          817.95,
          1034,
          349,
          699,
          1294,
          1135,
          495,
          2299,
          1299,
          997.9,
          419,
          2051,
          699,
          1499,
          2813.75,
          612.61,
          545.67,
          569,
          318,
          375,
          699,
          1907.99,
          2590,
          973,
          269,
          1749,
          669,
          1877,
          689,
          819,
          399,
          429,
          621.45,
          450,
          795,
          999,
          1855,
          1191,
          655.01,
          1249,
          1089,
          726,
          298,
          1426.66,
          857.07,
          1179,
          298,
          265,
          1200,
          1686.64,
          836.6,
          1499,
          3659.4,
          1348.48,
          489.9,
          719,
          649,
          589.52,
          489,
          1935,
          649,
          650,
          559,
          960,
          779,
          2419,
          659,
          2094.48,
          410.8,
          1207,
          665,
          1535,
          999,
          3299,
          330,
          1649,
          539,
          1126.71,
          4389,
          475,
          1900,
          579,
          1096,
          849.9,
          1199,
          1099,
          1561,
          2868.99,
          599,
          1048,
          1859,
          1559,
          1129,
          849,
          655,
          470.34,
          1099,
          1599,
          298,
          1181.27,
          1799,
          1020,
          1099,
          1244,
          839,
          2370,
          636,
          2899,
          581.9,
          3588.8,
          2350,
          1764,
          329,
          2299,
          1891,
          1089,
          999,
          2299,
          985,
          1339,
          202.9,
          1970,
          959,
          1165,
          2330,
          299,
          810,
          1349,
          739,
          2064.9,
          1099,
          1499,
          1749,
          744,
          1389,
          780,
          629,
          1679,
          609,
          1749,
          2415,
          1499,
          961,
          789.81,
          1859,
          1799,
          385,
          2505.02,
          755,
          489.9,
          1090,
          2499,
          1199,
          1875,
          499,
          1358,
          585,
          355,
          619,
          5499,
          2099,
          519,
          1186,
          1650,
          2774.63,
          2419,
          669,
          325,
          590,
          1799,
          3072.89,
          910,
          713.99,
          1870,
          739,
          615,
          1026,
          2277,
          1468,
          299,
          1899,
          865,
          1903,
          787,
          945,
          449,
          2559,
          649,
          469,
          850.66,
          1349,
          1285,
          1017,
          2240,
          910,
          1095,
          1950,
          902,
          1778,
          1055,
          479,
          1388,
          735,
          1849,
          1690,
          398.99,
          935,
          912.5,
          839,
          1700,
          684.8,
          348,
          669,
          369,
          1799,
          455.7,
          1369.9,
          297,
          379,
          1265,
          1399,
          1699,
          1799,
          2649,
          1475,
          929,
          900,
          614,
          935,
          2013.1,
          1279,
          1649,
          2049,
          1962.99,
          2099,
          1483,
          359,
          789,
          1899,
          1205,
          3100,
          789,
          1018.99,
          499,
          881,
          960,
          1599,
          1349,
          1119.91,
          684.99,
          1296.99,
          1149,
          1975,
          1825,
          729.9,
          1650,
          1165,
          708.06,
          1149,
          309,
          1579,
          288.9,
          1799,
          1105,
          1669,
          558.6,
          1199,
          1639,
          2758,
          1399,
          530,
          619,
          1119,
          1299,
          999,
          1472.2,
          685,
          659,
          349,
          2249,
          1775,
          1460,
          1159,
          1488.99,
          3154,
          1899,
          775,
          1268,
          389,
          1535,
          1760,
          1009,
          1790,
          846.5,
          465.62,
          825,
          685,
          3149,
          695,
          1899,
          1962.98,
          2800,
          1180,
          2049.9,
          979,
          1002,
          1799,
          579,
          1749,
          1299,
          1195,
          549,
          649,
          915,
          599,
          806,
          1189,
          749,
          1119,
          1908,
          499,
          270.62,
          1349,
          889,
          1150,
          1349,
          380,
          1799,
          2089,
          1260,
          1189,
          547,
          779,
          1195,
          1099.99,
          1205,
          1449,
          1049.26,
          684,
          949,
          1539,
          1590,
          1887.21,
          800,
          1210,
          769.99,
          2968,
          1490,
          2229,
          795.99,
          1590,
          1149,
          1185.43,
          1046.44,
          1559,
          1189,
          1060,
          1624,
          1080,
          973,
          409,
          1191.8,
          1195,
          1228.99,
          1349,
          742,
          1725,
          1062.95,
          1010.51,
          847,
          210.8,
          1425,
          1049.6,
          1000,
          2103.34,
          1469,
          1545.64,
          2289.99,
          287.9,
          2620,
          979,
          1094,
          979,
          2254,
          705.15,
          499,
          449,
          1299,
          1819,
          1070,
          998,
          559,
          989.99,
          1929,
          1458,
          3975,
          798.01,
          1329,
          1300,
          481.98,
          1199,
          1199,
          1090,
          1713.49,
          659,
          977,
          2499,
          540,
          940,
          1399,
          3240,
          646.27,
          2049,
          750,
          1030.99,
          1495,
          1199,
          615,
          387,
          393.49,
          345.99,
          1599,
          818.35,
          1599,
          799,
          638.8,
          1599,
          500,
          2299,
          1135.15,
          1166.97,
          209,
          2899,
          1199,
          1413.1,
          1511.19,
          867,
          398,
          1339,
          1699,
          769.15,
          429,
          1969,
          549,
          1379,
          2749.99,
          1029,
          2226,
          1312.49,
          196,
          1690,
          1513,
          523.63,
          435,
          1669,
          479,
          1895,
          989,
          1129,
          629,
          2050.38,
          278,
          752,
          616,
          1099,
          3949.4,
          784,
          2399,
          2171.72,
          2440,
          1142.8,
          1629,
          2229,
          1799,
          1899,
          2296.95,
          1009.9,
          1579,
          2339,
          339,
          297,
          599,
          1199,
          2250.68,
          478.89,
          1492.8,
          2299,
          788.49,
          2041,
          1499,
          1769,
          899,
          459,
          476.99,
          1498,
          1390,
          468,
          249,
          839,
          679,
          1159,
          369,
          398,
          709,
          769,
          825,
          1305,
          2153.37,
          650,
          1637,
          831,
          895.01,
          333,
          799,
          909,
          1179,
          691,
          1099,
          2599,
          819,
          659,
          485,
          1163,
          1199,
          1327,
          368,
          2150,
          272,
          2048.9,
          499,
          629,
          1285,
          2680,
          1169,
          889,
          579,
          299,
          629,
          2449,
          1279,
          1749,
          1948.99,
          999,
          1949,
          174,
          598,
          539,
          1272,
          1149,
          1529,
          1476.11,
          529,
          1713.37,
          509,
          309,
          1477,
          521.86,
          1029,
          1149,
          1650,
          3499,
          469.01,
          1598,
          959,
          478,
          2198.19,
          737,
          1169,
          1499,
          597.57,
          1280,
          361.8,
          1799,
          1099.99,
          1600,
          875,
          2325,
          573,
          1813,
          324,
          399,
          569,
          1072,
          443.99,
          339,
          1900,
          490,
          895,
          1229,
          833.01,
          729,
          459,
          289,
          379,
          899,
          549.99,
          805.99,
          209,
          720.32,
          638,
          1499,
          229,
          764,
          369,
          729,
          459,
          289,
          379,
          899,
          549.99,
          805.99,
          209,
          720.32,
          638,
          1499,
          229,
          764,
          369,
          729,
          459,
          289,
          379,
          899,
          549.99,
          805.99,
          209,
          720.32,
          638,
          1499,
          229,
          764,
          369
         ],
         "yaxis": "y"
        }
       ],
       "layout": {
        "legend": {
         "tracegroupgap": 0
        },
        "template": {
         "data": {
          "bar": [
           {
            "error_x": {
             "color": "#2a3f5f"
            },
            "error_y": {
             "color": "#2a3f5f"
            },
            "marker": {
             "line": {
              "color": "#E5ECF6",
              "width": 0.5
             },
             "pattern": {
              "fillmode": "overlay",
              "size": 10,
              "solidity": 0.2
             }
            },
            "type": "bar"
           }
          ],
          "barpolar": [
           {
            "marker": {
             "line": {
              "color": "#E5ECF6",
              "width": 0.5
             },
             "pattern": {
              "fillmode": "overlay",
              "size": 10,
              "solidity": 0.2
             }
            },
            "type": "barpolar"
           }
          ],
          "carpet": [
           {
            "aaxis": {
             "endlinecolor": "#2a3f5f",
             "gridcolor": "white",
             "linecolor": "white",
             "minorgridcolor": "white",
             "startlinecolor": "#2a3f5f"
            },
            "baxis": {
             "endlinecolor": "#2a3f5f",
             "gridcolor": "white",
             "linecolor": "white",
             "minorgridcolor": "white",
             "startlinecolor": "#2a3f5f"
            },
            "type": "carpet"
           }
          ],
          "choropleth": [
           {
            "colorbar": {
             "outlinewidth": 0,
             "ticks": ""
            },
            "type": "choropleth"
           }
          ],
          "contour": [
           {
            "colorbar": {
             "outlinewidth": 0,
             "ticks": ""
            },
            "colorscale": [
             [
              0,
              "#0d0887"
             ],
             [
              0.1111111111111111,
              "#46039f"
             ],
             [
              0.2222222222222222,
              "#7201a8"
             ],
             [
              0.3333333333333333,
              "#9c179e"
             ],
             [
              0.4444444444444444,
              "#bd3786"
             ],
             [
              0.5555555555555556,
              "#d8576b"
             ],
             [
              0.6666666666666666,
              "#ed7953"
             ],
             [
              0.7777777777777778,
              "#fb9f3a"
             ],
             [
              0.8888888888888888,
              "#fdca26"
             ],
             [
              1,
              "#f0f921"
             ]
            ],
            "type": "contour"
           }
          ],
          "contourcarpet": [
           {
            "colorbar": {
             "outlinewidth": 0,
             "ticks": ""
            },
            "type": "contourcarpet"
           }
          ],
          "heatmap": [
           {
            "colorbar": {
             "outlinewidth": 0,
             "ticks": ""
            },
            "colorscale": [
             [
              0,
              "#0d0887"
             ],
             [
              0.1111111111111111,
              "#46039f"
             ],
             [
              0.2222222222222222,
              "#7201a8"
             ],
             [
              0.3333333333333333,
              "#9c179e"
             ],
             [
              0.4444444444444444,
              "#bd3786"
             ],
             [
              0.5555555555555556,
              "#d8576b"
             ],
             [
              0.6666666666666666,
              "#ed7953"
             ],
             [
              0.7777777777777778,
              "#fb9f3a"
             ],
             [
              0.8888888888888888,
              "#fdca26"
             ],
             [
              1,
              "#f0f921"
             ]
            ],
            "type": "heatmap"
           }
          ],
          "heatmapgl": [
           {
            "colorbar": {
             "outlinewidth": 0,
             "ticks": ""
            },
            "colorscale": [
             [
              0,
              "#0d0887"
             ],
             [
              0.1111111111111111,
              "#46039f"
             ],
             [
              0.2222222222222222,
              "#7201a8"
             ],
             [
              0.3333333333333333,
              "#9c179e"
             ],
             [
              0.4444444444444444,
              "#bd3786"
             ],
             [
              0.5555555555555556,
              "#d8576b"
             ],
             [
              0.6666666666666666,
              "#ed7953"
             ],
             [
              0.7777777777777778,
              "#fb9f3a"
             ],
             [
              0.8888888888888888,
              "#fdca26"
             ],
             [
              1,
              "#f0f921"
             ]
            ],
            "type": "heatmapgl"
           }
          ],
          "histogram": [
           {
            "marker": {
             "pattern": {
              "fillmode": "overlay",
              "size": 10,
              "solidity": 0.2
             }
            },
            "type": "histogram"
           }
          ],
          "histogram2d": [
           {
            "colorbar": {
             "outlinewidth": 0,
             "ticks": ""
            },
            "colorscale": [
             [
              0,
              "#0d0887"
             ],
             [
              0.1111111111111111,
              "#46039f"
             ],
             [
              0.2222222222222222,
              "#7201a8"
             ],
             [
              0.3333333333333333,
              "#9c179e"
             ],
             [
              0.4444444444444444,
              "#bd3786"
             ],
             [
              0.5555555555555556,
              "#d8576b"
             ],
             [
              0.6666666666666666,
              "#ed7953"
             ],
             [
              0.7777777777777778,
              "#fb9f3a"
             ],
             [
              0.8888888888888888,
              "#fdca26"
             ],
             [
              1,
              "#f0f921"
             ]
            ],
            "type": "histogram2d"
           }
          ],
          "histogram2dcontour": [
           {
            "colorbar": {
             "outlinewidth": 0,
             "ticks": ""
            },
            "colorscale": [
             [
              0,
              "#0d0887"
             ],
             [
              0.1111111111111111,
              "#46039f"
             ],
             [
              0.2222222222222222,
              "#7201a8"
             ],
             [
              0.3333333333333333,
              "#9c179e"
             ],
             [
              0.4444444444444444,
              "#bd3786"
             ],
             [
              0.5555555555555556,
              "#d8576b"
             ],
             [
              0.6666666666666666,
              "#ed7953"
             ],
             [
              0.7777777777777778,
              "#fb9f3a"
             ],
             [
              0.8888888888888888,
              "#fdca26"
             ],
             [
              1,
              "#f0f921"
             ]
            ],
            "type": "histogram2dcontour"
           }
          ],
          "mesh3d": [
           {
            "colorbar": {
             "outlinewidth": 0,
             "ticks": ""
            },
            "type": "mesh3d"
           }
          ],
          "parcoords": [
           {
            "line": {
             "colorbar": {
              "outlinewidth": 0,
              "ticks": ""
             }
            },
            "type": "parcoords"
           }
          ],
          "pie": [
           {
            "automargin": true,
            "type": "pie"
           }
          ],
          "scatter": [
           {
            "marker": {
             "colorbar": {
              "outlinewidth": 0,
              "ticks": ""
             }
            },
            "type": "scatter"
           }
          ],
          "scatter3d": [
           {
            "line": {
             "colorbar": {
              "outlinewidth": 0,
              "ticks": ""
             }
            },
            "marker": {
             "colorbar": {
              "outlinewidth": 0,
              "ticks": ""
             }
            },
            "type": "scatter3d"
           }
          ],
          "scattercarpet": [
           {
            "marker": {
             "colorbar": {
              "outlinewidth": 0,
              "ticks": ""
             }
            },
            "type": "scattercarpet"
           }
          ],
          "scattergeo": [
           {
            "marker": {
             "colorbar": {
              "outlinewidth": 0,
              "ticks": ""
             }
            },
            "type": "scattergeo"
           }
          ],
          "scattergl": [
           {
            "marker": {
             "colorbar": {
              "outlinewidth": 0,
              "ticks": ""
             }
            },
            "type": "scattergl"
           }
          ],
          "scattermapbox": [
           {
            "marker": {
             "colorbar": {
              "outlinewidth": 0,
              "ticks": ""
             }
            },
            "type": "scattermapbox"
           }
          ],
          "scatterpolar": [
           {
            "marker": {
             "colorbar": {
              "outlinewidth": 0,
              "ticks": ""
             }
            },
            "type": "scatterpolar"
           }
          ],
          "scatterpolargl": [
           {
            "marker": {
             "colorbar": {
              "outlinewidth": 0,
              "ticks": ""
             }
            },
            "type": "scatterpolargl"
           }
          ],
          "scatterternary": [
           {
            "marker": {
             "colorbar": {
              "outlinewidth": 0,
              "ticks": ""
             }
            },
            "type": "scatterternary"
           }
          ],
          "surface": [
           {
            "colorbar": {
             "outlinewidth": 0,
             "ticks": ""
            },
            "colorscale": [
             [
              0,
              "#0d0887"
             ],
             [
              0.1111111111111111,
              "#46039f"
             ],
             [
              0.2222222222222222,
              "#7201a8"
             ],
             [
              0.3333333333333333,
              "#9c179e"
             ],
             [
              0.4444444444444444,
              "#bd3786"
             ],
             [
              0.5555555555555556,
              "#d8576b"
             ],
             [
              0.6666666666666666,
              "#ed7953"
             ],
             [
              0.7777777777777778,
              "#fb9f3a"
             ],
             [
              0.8888888888888888,
              "#fdca26"
             ],
             [
              1,
              "#f0f921"
             ]
            ],
            "type": "surface"
           }
          ],
          "table": [
           {
            "cells": {
             "fill": {
              "color": "#EBF0F8"
             },
             "line": {
              "color": "white"
             }
            },
            "header": {
             "fill": {
              "color": "#C8D4E3"
             },
             "line": {
              "color": "white"
             }
            },
            "type": "table"
           }
          ]
         },
         "layout": {
          "annotationdefaults": {
           "arrowcolor": "#2a3f5f",
           "arrowhead": 0,
           "arrowwidth": 1
          },
          "autotypenumbers": "strict",
          "coloraxis": {
           "colorbar": {
            "outlinewidth": 0,
            "ticks": ""
           }
          },
          "colorscale": {
           "diverging": [
            [
             0,
             "#8e0152"
            ],
            [
             0.1,
             "#c51b7d"
            ],
            [
             0.2,
             "#de77ae"
            ],
            [
             0.3,
             "#f1b6da"
            ],
            [
             0.4,
             "#fde0ef"
            ],
            [
             0.5,
             "#f7f7f7"
            ],
            [
             0.6,
             "#e6f5d0"
            ],
            [
             0.7,
             "#b8e186"
            ],
            [
             0.8,
             "#7fbc41"
            ],
            [
             0.9,
             "#4d9221"
            ],
            [
             1,
             "#276419"
            ]
           ],
           "sequential": [
            [
             0,
             "#0d0887"
            ],
            [
             0.1111111111111111,
             "#46039f"
            ],
            [
             0.2222222222222222,
             "#7201a8"
            ],
            [
             0.3333333333333333,
             "#9c179e"
            ],
            [
             0.4444444444444444,
             "#bd3786"
            ],
            [
             0.5555555555555556,
             "#d8576b"
            ],
            [
             0.6666666666666666,
             "#ed7953"
            ],
            [
             0.7777777777777778,
             "#fb9f3a"
            ],
            [
             0.8888888888888888,
             "#fdca26"
            ],
            [
             1,
             "#f0f921"
            ]
           ],
           "sequentialminus": [
            [
             0,
             "#0d0887"
            ],
            [
             0.1111111111111111,
             "#46039f"
            ],
            [
             0.2222222222222222,
             "#7201a8"
            ],
            [
             0.3333333333333333,
             "#9c179e"
            ],
            [
             0.4444444444444444,
             "#bd3786"
            ],
            [
             0.5555555555555556,
             "#d8576b"
            ],
            [
             0.6666666666666666,
             "#ed7953"
            ],
            [
             0.7777777777777778,
             "#fb9f3a"
            ],
            [
             0.8888888888888888,
             "#fdca26"
            ],
            [
             1,
             "#f0f921"
            ]
           ]
          },
          "colorway": [
           "#636efa",
           "#EF553B",
           "#00cc96",
           "#ab63fa",
           "#FFA15A",
           "#19d3f3",
           "#FF6692",
           "#B6E880",
           "#FF97FF",
           "#FECB52"
          ],
          "font": {
           "color": "#2a3f5f"
          },
          "geo": {
           "bgcolor": "white",
           "lakecolor": "white",
           "landcolor": "#E5ECF6",
           "showlakes": true,
           "showland": true,
           "subunitcolor": "white"
          },
          "hoverlabel": {
           "align": "left"
          },
          "hovermode": "closest",
          "mapbox": {
           "style": "light"
          },
          "paper_bgcolor": "white",
          "plot_bgcolor": "#E5ECF6",
          "polar": {
           "angularaxis": {
            "gridcolor": "white",
            "linecolor": "white",
            "ticks": ""
           },
           "bgcolor": "#E5ECF6",
           "radialaxis": {
            "gridcolor": "white",
            "linecolor": "white",
            "ticks": ""
           }
          },
          "scene": {
           "xaxis": {
            "backgroundcolor": "#E5ECF6",
            "gridcolor": "white",
            "gridwidth": 2,
            "linecolor": "white",
            "showbackground": true,
            "ticks": "",
            "zerolinecolor": "white"
           },
           "yaxis": {
            "backgroundcolor": "#E5ECF6",
            "gridcolor": "white",
            "gridwidth": 2,
            "linecolor": "white",
            "showbackground": true,
            "ticks": "",
            "zerolinecolor": "white"
           },
           "zaxis": {
            "backgroundcolor": "#E5ECF6",
            "gridcolor": "white",
            "gridwidth": 2,
            "linecolor": "white",
            "showbackground": true,
            "ticks": "",
            "zerolinecolor": "white"
           }
          },
          "shapedefaults": {
           "line": {
            "color": "#2a3f5f"
           }
          },
          "ternary": {
           "aaxis": {
            "gridcolor": "white",
            "linecolor": "white",
            "ticks": ""
           },
           "baxis": {
            "gridcolor": "white",
            "linecolor": "white",
            "ticks": ""
           },
           "bgcolor": "#E5ECF6",
           "caxis": {
            "gridcolor": "white",
            "linecolor": "white",
            "ticks": ""
           }
          },
          "title": {
           "x": 0.05
          },
          "xaxis": {
           "automargin": true,
           "gridcolor": "white",
           "linecolor": "white",
           "ticks": "",
           "title": {
            "standoff": 15
           },
           "zerolinecolor": "white",
           "zerolinewidth": 2
          },
          "yaxis": {
           "automargin": true,
           "gridcolor": "white",
           "linecolor": "white",
           "ticks": "",
           "title": {
            "standoff": 15
           },
           "zerolinecolor": "white",
           "zerolinewidth": 2
          }
         }
        },
        "title": {
         "text": "Price(€) according to Company"
        },
        "xaxis": {
         "anchor": "y",
         "domain": [
          0,
          1
         ],
         "title": {
          "text": "Company"
         }
        },
        "yaxis": {
         "anchor": "x",
         "domain": [
          0,
          1
         ],
         "title": {
          "text": "Price_euros"
         }
        }
       }
      },
      "text/html": [
       "<div>                            <div id=\"a0f5eb1d-ed20-4c84-9fba-65d7db3be3ad\" class=\"plotly-graph-div\" style=\"height:525px; width:100%;\"></div>            <script type=\"text/javascript\">                require([\"plotly\"], function(Plotly) {                    window.PLOTLYENV=window.PLOTLYENV || {};                                    if (document.getElementById(\"a0f5eb1d-ed20-4c84-9fba-65d7db3be3ad\")) {                    Plotly.newPlot(                        \"a0f5eb1d-ed20-4c84-9fba-65d7db3be3ad\",                        [{\"hovertemplate\":\"Company=%{x}<br>Price_euros=%{y}<extra></extra>\",\"legendgroup\":\"\",\"marker\":{\"color\":\"#636efa\",\"opacity\":0.6,\"size\":6,\"symbol\":\"circle\"},\"mode\":\"markers\",\"name\":\"\",\"showlegend\":false,\"type\":\"scattergl\",\"x\":[\"Apple\",\"Apple\",\"HP\",\"Apple\",\"Apple\",\"Acer\",\"Apple\",\"Apple\",\"Asus\",\"Acer\",\"HP\",\"HP\",\"Apple\",\"Dell\",\"Apple\",\"Apple\",\"Dell\",\"Apple\",\"Lenovo\",\"Dell\",\"Asus\",\"Lenovo\",\"HP\",\"Dell\",\"HP\",\"Dell\",\"Apple\",\"Dell\",\"Dell\",\"HP\",\"Chuwi\",\"Asus\",\"HP\",\"Dell\",\"Apple\",\"Lenovo\",\"Acer\",\"Dell\",\"HP\",\"HP\",\"Asus\",\"Dell\",\"Asus\",\"Acer\",\"Dell\",\"Apple\",\"Lenovo\",\"Asus\",\"Dell\",\"Asus\",\"Lenovo\",\"Acer\",\"HP\",\"HP\",\"Acer\",\"Dell\",\"HP\",\"Asus\",\"MSI\",\"Asus\",\"Dell\",\"Dell\",\"Lenovo\",\"Asus\",\"HP\",\"Asus\",\"HP\",\"HP\",\"Lenovo\",\"Asus\",\"Microsoft\",\"Dell\",\"Dell\",\"MSI\",\"Acer\",\"Asus\",\"Lenovo\",\"Dell\",\"Acer\",\"HP\",\"Dell\",\"Apple\",\"HP\",\"Lenovo\",\"Acer\",\"Dell\",\"HP\",\"HP\",\"Asus\",\"Dell\",\"Asus\",\"Acer\",\"HP\",\"Dell\",\"Asus\",\"Acer\",\"Dell\",\"Dell\",\"Asus\",\"HP\",\"HP\",\"HP\",\"Dell\",\"HP\",\"Microsoft\",\"HP\",\"Lenovo\",\"Asus\",\"MSI\",\"Lenovo\",\"Asus\",\"Dell\",\"Lenovo\",\"HP\",\"Dell\",\"HP\",\"HP\",\"Dell\",\"Asus\",\"Asus\",\"Acer\",\"MSI\",\"Lenovo\",\"HP\",\"Acer\",\"HP\",\"HP\",\"Asus\",\"Dell\",\"HP\",\"Dell\",\"Dell\",\"Acer\",\"Acer\",\"HP\",\"HP\",\"Lenovo\",\"Asus\",\"Lenovo\",\"HP\",\"Acer\",\"Lenovo\",\"Lenovo\",\"Toshiba\",\"HP\",\"Asus\",\"HP\",\"Asus\",\"MSI\",\"Acer\",\"Dell\",\"Dell\",\"Lenovo\",\"MSI\",\"HP\",\"HP\",\"Lenovo\",\"Asus\",\"Dell\",\"Toshiba\",\"Asus\",\"Acer\",\"Dell\",\"Lenovo\",\"Acer\",\"MSI\",\"Acer\",\"Dell\",\"Acer\",\"HP\",\"Huawei\",\"HP\",\"Lenovo\",\"Toshiba\",\"HP\",\"Dell\",\"Acer\",\"MSI\",\"Lenovo\",\"HP\",\"Dell\",\"Dell\",\"Lenovo\",\"Toshiba\",\"Xiaomi\",\"Dell\",\"Dell\",\"Lenovo\",\"Acer\",\"Dell\",\"Lenovo\",\"Vero\",\"Xiaomi\",\"Lenovo\",\"Dell\",\"HP\",\"Razer\",\"HP\",\"HP\",\"HP\",\"Dell\",\"Lenovo\",\"Acer\",\"Lenovo\",\"Dell\",\"Lenovo\",\"Dell\",\"Dell\",\"Dell\",\"Lenovo\",\"Acer\",\"Asus\",\"HP\",\"Lenovo\",\"Huawei\",\"Dell\",\"Lenovo\",\"HP\",\"Dell\",\"Dell\",\"Dell\",\"Lenovo\",\"Toshiba\",\"HP\",\"Dell\",\"Acer\",\"Dell\",\"Asus\",\"Asus\",\"HP\",\"Asus\",\"HP\",\"Lenovo\",\"Dell\",\"Acer\",\"Dell\",\"Acer\",\"Asus\",\"Asus\",\"Acer\",\"Lenovo\",\"Asus\",\"Asus\",\"Dell\",\"Lenovo\",\"Dell\",\"HP\",\"Asus\",\"HP\",\"Apple\",\"Dell\",\"Asus\",\"Asus\",\"Lenovo\",\"Acer\",\"Dell\",\"HP\",\"HP\",\"MSI\",\"Lenovo\",\"Dell\",\"Lenovo\",\"HP\",\"Dell\",\"Dell\",\"Dell\",\"Asus\",\"Lenovo\",\"HP\",\"Lenovo\",\"Apple\",\"Asus\",\"Dell\",\"Lenovo\",\"Toshiba\",\"Dell\",\"Dell\",\"Acer\",\"Lenovo\",\"Lenovo\",\"Lenovo\",\"Dell\",\"Lenovo\",\"Lenovo\",\"Acer\",\"Acer\",\"Lenovo\",\"Asus\",\"Lenovo\",\"Lenovo\",\"Acer\",\"Asus\",\"HP\",\"Dell\",\"Lenovo\",\"Lenovo\",\"Acer\",\"Dell\",\"Lenovo\",\"Asus\",\"Asus\",\"Asus\",\"Lenovo\",\"Lenovo\",\"Asus\",\"Lenovo\",\"HP\",\"Toshiba\",\"Lenovo\",\"HP\",\"Lenovo\",\"Dell\",\"MSI\",\"Acer\",\"Asus\",\"Dell\",\"HP\",\"Lenovo\",\"HP\",\"Acer\",\"HP\",\"Lenovo\",\"Asus\",\"HP\",\"Acer\",\"Lenovo\",\"Acer\",\"Asus\",\"HP\",\"Dell\",\"MSI\",\"Toshiba\",\"Asus\",\"Lenovo\",\"Asus\",\"HP\",\"Dell\",\"HP\",\"Asus\",\"Dell\",\"Dell\",\"Lenovo\",\"HP\",\"Lenovo\",\"Dell\",\"Lenovo\",\"HP\",\"Dell\",\"Asus\",\"Dell\",\"Dell\",\"HP\",\"MSI\",\"HP\",\"Toshiba\",\"Dell\",\"Lenovo\",\"Dell\",\"Dell\",\"Dell\",\"HP\",\"Asus\",\"Lenovo\",\"HP\",\"Lenovo\",\"HP\",\"Dell\",\"Lenovo\",\"Dell\",\"HP\",\"Asus\",\"Acer\",\"Asus\",\"Lenovo\",\"Dell\",\"HP\",\"Lenovo\",\"Dell\",\"Asus\",\"Acer\",\"HP\",\"Lenovo\",\"Asus\",\"Lenovo\",\"Asus\",\"Lenovo\",\"Lenovo\",\"Dell\",\"Dell\",\"Lenovo\",\"Asus\",\"Asus\",\"Acer\",\"MSI\",\"Dell\",\"HP\",\"Lenovo\",\"Lenovo\",\"Dell\",\"Lenovo\",\"Lenovo\",\"Asus\",\"Lenovo\",\"Acer\",\"MSI\",\"Asus\",\"Toshiba\",\"Dell\",\"Lenovo\",\"Lenovo\",\"Lenovo\",\"Lenovo\",\"HP\",\"Acer\",\"Asus\",\"Dell\",\"Dell\",\"HP\",\"Dell\",\"Lenovo\",\"Lenovo\",\"Chuwi\",\"HP\",\"Asus\",\"Dell\",\"Dell\",\"Dell\",\"Dell\",\"HP\",\"Mediacom\",\"Samsung\",\"Lenovo\",\"Lenovo\",\"Lenovo\",\"Lenovo\",\"Asus\",\"HP\",\"Google\",\"Lenovo\",\"Asus\",\"Lenovo\",\"Dell\",\"Lenovo\",\"Lenovo\",\"HP\",\"Dell\",\"Acer\",\"Dell\",\"MSI\",\"Microsoft\",\"HP\",\"Dell\",\"HP\",\"Lenovo\",\"Dell\",\"Dell\",\"Dell\",\"Microsoft\",\"Microsoft\",\"HP\",\"Acer\",\"Acer\",\"Asus\",\"Lenovo\",\"Lenovo\",\"Asus\",\"Acer\",\"Dell\",\"HP\",\"Lenovo\",\"HP\",\"HP\",\"Google\",\"Dell\",\"Asus\",\"Dell\",\"Dell\",\"Lenovo\",\"Dell\",\"Toshiba\",\"Dell\",\"Dell\",\"HP\",\"Chuwi\",\"Lenovo\",\"Lenovo\",\"Dell\",\"Dell\",\"Lenovo\",\"Asus\",\"Lenovo\",\"Toshiba\",\"Asus\",\"Acer\",\"Asus\",\"Lenovo\",\"Lenovo\",\"HP\",\"Lenovo\",\"Lenovo\",\"Asus\",\"HP\",\"Lenovo\",\"Lenovo\",\"Lenovo\",\"Lenovo\",\"Asus\",\"Acer\",\"HP\",\"Lenovo\",\"Dell\",\"Acer\",\"Dell\",\"Dell\",\"Xiaomi\",\"Asus\",\"HP\",\"Asus\",\"HP\",\"Asus\",\"Lenovo\",\"HP\",\"Dell\",\"HP\",\"Dell\",\"Lenovo\",\"Lenovo\",\"Lenovo\",\"Dell\",\"Dell\",\"Dell\",\"Toshiba\",\"Asus\",\"Mediacom\",\"Asus\",\"Dell\",\"Dell\",\"HP\",\"HP\",\"Lenovo\",\"Dell\",\"Dell\",\"HP\",\"Acer\",\"Asus\",\"HP\",\"Lenovo\",\"Lenovo\",\"HP\",\"Lenovo\",\"Lenovo\",\"Dell\",\"Dell\",\"HP\",\"HP\",\"Asus\",\"Mediacom\",\"Lenovo\",\"HP\",\"Dell\",\"Acer\",\"Lenovo\",\"HP\",\"Lenovo\",\"Asus\",\"Dell\",\"Dell\",\"Fujitsu\",\"Lenovo\",\"Lenovo\",\"HP\",\"HP\",\"HP\",\"Lenovo\",\"Lenovo\",\"Mediacom\",\"Toshiba\",\"Lenovo\",\"MSI\",\"Dell\",\"Mediacom\",\"Dell\",\"HP\",\"Dell\",\"Dell\",\"MSI\",\"HP\",\"Lenovo\",\"Lenovo\",\"Asus\",\"Asus\",\"Lenovo\",\"Dell\",\"Samsung\",\"Lenovo\",\"Lenovo\",\"Lenovo\",\"Lenovo\",\"Dell\",\"Dell\",\"HP\",\"HP\",\"Acer\",\"MSI\",\"Dell\",\"MSI\",\"Toshiba\",\"Lenovo\",\"Lenovo\",\"Acer\",\"Lenovo\",\"Dell\",\"Dell\",\"Dell\",\"Dell\",\"Asus\",\"Dell\",\"HP\",\"MSI\",\"Acer\",\"HP\",\"Lenovo\",\"Dell\",\"Fujitsu\",\"HP\",\"Lenovo\",\"Mediacom\",\"Lenovo\",\"Asus\",\"Dell\",\"Asus\",\"Dell\",\"Lenovo\",\"Lenovo\",\"Asus\",\"Asus\",\"Dell\",\"Lenovo\",\"Lenovo\",\"Dell\",\"Lenovo\",\"HP\",\"Lenovo\",\"Asus\",\"Acer\",\"Lenovo\",\"Acer\",\"Razer\",\"Toshiba\",\"Lenovo\",\"Asus\",\"Acer\",\"Dell\",\"MSI\",\"HP\",\"Toshiba\",\"Dell\",\"Dell\",\"Lenovo\",\"Dell\",\"Dell\",\"Lenovo\",\"Lenovo\",\"HP\",\"MSI\",\"Toshiba\",\"Dell\",\"HP\",\"Toshiba\",\"Acer\",\"Microsoft\",\"Lenovo\",\"Lenovo\",\"Lenovo\",\"HP\",\"MSI\",\"Asus\",\"HP\",\"LG\",\"Acer\",\"MSI\",\"Asus\",\"Dell\",\"HP\",\"Lenovo\",\"Dell\",\"HP\",\"Dell\",\"HP\",\"Lenovo\",\"Acer\",\"Lenovo\",\"HP\",\"Lenovo\",\"Toshiba\",\"Acer\",\"Lenovo\",\"Asus\",\"Toshiba\",\"HP\",\"Dell\",\"Lenovo\",\"Lenovo\",\"Lenovo\",\"Lenovo\",\"Dell\",\"Acer\",\"Lenovo\",\"Lenovo\",\"HP\",\"Lenovo\",\"Dell\",\"Dell\",\"Asus\",\"Dell\",\"Lenovo\",\"Dell\",\"Lenovo\",\"Mediacom\",\"HP\",\"Lenovo\",\"HP\",\"Lenovo\",\"Dell\",\"MSI\",\"Lenovo\",\"Dell\",\"Dell\",\"Dell\",\"HP\",\"Acer\",\"Dell\",\"HP\",\"Acer\",\"Lenovo\",\"Lenovo\",\"HP\",\"Dell\",\"MSI\",\"Acer\",\"Dell\",\"Dell\",\"Toshiba\",\"Lenovo\",\"Lenovo\",\"Acer\",\"Samsung\",\"HP\",\"Dell\",\"HP\",\"Lenovo\",\"HP\",\"Asus\",\"Lenovo\",\"Asus\",\"Lenovo\",\"HP\",\"HP\",\"Dell\",\"Acer\",\"Lenovo\",\"Dell\",\"Google\",\"Asus\",\"Dell\",\"Acer\",\"Asus\",\"Dell\",\"Samsung\",\"Acer\",\"Dell\",\"Samsung\",\"Toshiba\",\"Dell\",\"HP\",\"Asus\",\"Lenovo\",\"Acer\",\"Razer\",\"Asus\",\"Dell\",\"Asus\",\"Toshiba\",\"Lenovo\",\"Lenovo\",\"MSI\",\"MSI\",\"Lenovo\",\"Acer\",\"Dell\",\"Asus\",\"Vero\",\"Lenovo\",\"Lenovo\",\"Apple\",\"Lenovo\",\"Asus\",\"Dell\",\"Lenovo\",\"Dell\",\"HP\",\"Asus\",\"Dell\",\"Dell\",\"Dell\",\"HP\",\"Toshiba\",\"HP\",\"Dell\",\"Lenovo\",\"HP\",\"MSI\",\"Samsung\",\"Dell\",\"Dell\",\"Lenovo\",\"Razer\",\"HP\",\"Dell\",\"Dell\",\"Lenovo\",\"Toshiba\",\"Lenovo\",\"MSI\",\"Lenovo\",\"Toshiba\",\"Asus\",\"Dell\",\"Acer\",\"Acer\",\"Razer\",\"Lenovo\",\"Asus\",\"Lenovo\",\"Lenovo\",\"Dell\",\"Asus\",\"Toshiba\",\"Lenovo\",\"Asus\",\"Asus\",\"Dell\",\"HP\",\"Dell\",\"HP\",\"Dell\",\"HP\",\"Asus\",\"HP\",\"HP\",\"HP\",\"Asus\",\"Dell\",\"Lenovo\",\"Asus\",\"Dell\",\"Asus\",\"HP\",\"Dell\",\"Lenovo\",\"Lenovo\",\"HP\",\"Toshiba\",\"Lenovo\",\"Dell\",\"HP\",\"Toshiba\",\"Lenovo\",\"Acer\",\"Dell\",\"Lenovo\",\"Lenovo\",\"Toshiba\",\"Lenovo\",\"Samsung\",\"Dell\",\"Asus\",\"Xiaomi\",\"Dell\",\"HP\",\"HP\",\"HP\",\"Asus\",\"Lenovo\",\"Dell\",\"HP\",\"Dell\",\"Asus\",\"Acer\",\"Lenovo\",\"HP\",\"HP\",\"Samsung\",\"Lenovo\",\"MSI\",\"Toshiba\",\"Dell\",\"HP\",\"Dell\",\"Dell\",\"Dell\",\"Asus\",\"Dell\",\"Lenovo\",\"Lenovo\",\"LG\",\"HP\",\"Acer\",\"Lenovo\",\"LG\",\"Dell\",\"HP\",\"Lenovo\",\"HP\",\"Acer\",\"Lenovo\",\"HP\",\"MSI\",\"Dell\",\"MSI\",\"Dell\",\"HP\",\"HP\",\"Toshiba\",\"Lenovo\",\"Dell\",\"Lenovo\",\"HP\",\"Dell\",\"HP\",\"Lenovo\",\"HP\",\"HP\",\"Lenovo\",\"Toshiba\",\"HP\",\"Dell\",\"MSI\",\"Dell\",\"Dell\",\"HP\",\"Asus\",\"Acer\",\"Toshiba\",\"Lenovo\",\"Lenovo\",\"Dell\",\"Lenovo\",\"Dell\",\"Acer\",\"HP\",\"Dell\",\"Toshiba\",\"Asus\",\"Lenovo\",\"Dell\",\"Dell\",\"HP\",\"Dell\",\"Acer\",\"Toshiba\",\"Lenovo\",\"Acer\",\"Toshiba\",\"HP\",\"Dell\",\"Dell\",\"HP\",\"Dell\",\"Lenovo\",\"Dell\",\"Dell\",\"Dell\",\"Toshiba\",\"Asus\",\"HP\",\"Lenovo\",\"Asus\",\"HP\",\"Asus\",\"Dell\",\"Toshiba\",\"Lenovo\",\"Fujitsu\",\"Toshiba\",\"Dell\",\"HP\",\"Lenovo\",\"Dell\",\"Dell\",\"HP\",\"HP\",\"Lenovo\",\"Lenovo\",\"Dell\",\"Asus\",\"HP\",\"Acer\",\"Asus\",\"HP\",\"Acer\",\"HP\",\"Dell\",\"HP\",\"Toshiba\",\"HP\",\"HP\",\"HP\",\"HP\",\"HP\",\"Dell\",\"HP\",\"HP\",\"HP\",\"HP\",\"Toshiba\",\"HP\",\"Lenovo\",\"Toshiba\",\"HP\",\"Dell\",\"Toshiba\",\"HP\",\"HP\",\"Dell\",\"HP\",\"HP\",\"HP\",\"Dell\",\"HP\",\"HP\",\"Acer\",\"MSI\",\"HP\",\"HP\",\"HP\",\"HP\",\"Toshiba\",\"Dell\",\"HP\",\"Lenovo\",\"Vero\",\"Toshiba\",\"Lenovo\",\"HP\",\"HP\",\"HP\",\"MSI\",\"Lenovo\",\"Asus\",\"Lenovo\",\"HP\",\"Dell\",\"HP\",\"Dell\",\"HP\",\"HP\",\"Acer\",\"Dell\",\"MSI\",\"HP\",\"Asus\",\"Dell\",\"Dell\",\"MSI\",\"Dell\",\"Asus\",\"Dell\",\"Dell\",\"Apple\",\"Dell\",\"HP\",\"HP\",\"HP\",\"Lenovo\",\"Lenovo\",\"Lenovo\",\"MSI\",\"Lenovo\",\"HP\",\"Lenovo\",\"Lenovo\",\"Lenovo\",\"HP\",\"Dell\",\"HP\",\"HP\",\"Lenovo\",\"HP\",\"Acer\",\"Dell\",\"HP\",\"Asus\",\"Dell\",\"HP\",\"Acer\",\"Dell\",\"MSI\",\"HP\",\"Asus\",\"Dell\",\"Dell\",\"Acer\",\"HP\",\"Lenovo\",\"Dell\",\"MSI\",\"Lenovo\",\"HP\",\"Asus\",\"HP\",\"Dell\",\"Lenovo\",\"HP\",\"Lenovo\",\"Dell\",\"Lenovo\",\"Razer\",\"Toshiba\",\"Asus\",\"Vero\",\"HP\",\"HP\",\"Dell\",\"Asus\",\"Lenovo\",\"Lenovo\",\"HP\",\"Lenovo\",\"HP\",\"HP\",\"Lenovo\",\"Asus\",\"HP\",\"Acer\",\"Lenovo\",\"HP\",\"Dell\",\"MSI\",\"HP\",\"Lenovo\",\"MSI\",\"HP\",\"HP\",\"HP\",\"HP\",\"HP\",\"Dell\",\"HP\",\"Lenovo\",\"Lenovo\",\"HP\",\"Lenovo\",\"Dell\",\"Dell\",\"HP\",\"MSI\",\"Lenovo\",\"Lenovo\",\"HP\",\"Lenovo\",\"MSI\",\"HP\",\"Lenovo\",\"HP\",\"Dell\",\"Lenovo\",\"Lenovo\",\"HP\",\"MSI\",\"HP\",\"HP\",\"Asus\",\"Lenovo\",\"Lenovo\",\"Asus\",\"Lenovo\",\"Lenovo\",\"MSI\",\"HP\",\"Lenovo\",\"Lenovo\",\"Dell\",\"Acer\",\"HP\",\"Asus\",\"Dell\",\"Acer\",\"Dell\",\"Acer\",\"Lenovo\",\"Samsung\",\"HP\",\"Apple\",\"Dell\",\"HP\",\"Lenovo\",\"Asus\",\"Acer\",\"MSI\",\"Dell\",\"Lenovo\",\"Dell\",\"Dell\",\"Asus\",\"Dell\",\"HP\",\"Lenovo\",\"Acer\",\"Asus\",\"Apple\",\"Asus\",\"MSI\",\"Dell\",\"Asus\",\"Acer\",\"Acer\",\"Lenovo\",\"Lenovo\",\"Acer\",\"Lenovo\",\"MSI\",\"HP\",\"Dell\",\"Dell\",\"Asus\",\"Dell\",\"Dell\",\"Lenovo\",\"MSI\",\"Lenovo\",\"Razer\",\"Dell\",\"MSI\",\"Apple\",\"HP\",\"HP\",\"Dell\",\"MSI\",\"Lenovo\",\"Lenovo\",\"Asus\",\"Acer\",\"Dell\",\"HP\",\"Asus\",\"Dell\",\"Asus\",\"Lenovo\",\"Dell\",\"Dell\",\"HP\",\"Lenovo\",\"Lenovo\",\"Dell\",\"Asus\",\"Asus\",\"Dell\",\"Lenovo\",\"MSI\",\"Lenovo\",\"Asus\",\"Dell\",\"Acer\",\"Dell\",\"Lenovo\",\"HP\",\"Dell\",\"HP\",\"Asus\",\"Lenovo\",\"Lenovo\",\"Lenovo\",\"HP\",\"Asus\",\"Asus\",\"Dell\",\"Acer\",\"Dell\",\"Lenovo\",\"HP\",\"Dell\",\"HP\",\"Asus\",\"Lenovo\",\"Lenovo\",\"Lenovo\",\"HP\",\"Asus\",\"Asus\",\"Dell\",\"Acer\",\"Dell\",\"Lenovo\",\"HP\",\"Dell\",\"HP\",\"Asus\",\"Lenovo\",\"Lenovo\",\"Lenovo\",\"HP\",\"Asus\"],\"xaxis\":\"x\",\"y\":[1339.69,898.94,575.0,2537.45,1803.6,400.0,2139.97,1158.7,1495.0,770.0,393.9,344.99,2439.97,498.9,1262.4,1518.55,745.0,2858.0,499.0,979.0,191.9,999.0,258.0,819.0,659.0,418.64,1099.0,800.0,1298.0,896.0,244.99,199.0,439.0,1869.0,998.0,249.0,367.0,979.0,488.69,879.0,389.0,1499.0,522.99,682.0,999.0,1419.0,369.0,1299.0,639.0,466.0,319.0,841.0,398.49,1103.0,384.0,767.8,439.0,586.19,2449.0,415.0,1299.0,879.0,599.0,941.0,690.0,1983.0,438.69,229.0,549.0,949.0,1089.0,955.0,870.0,1095.0,389.0,949.0,519.0,855.0,530.0,977.0,1096.16,1510.0,860.0,399.0,395.0,1349.0,699.0,598.99,1449.0,1649.0,699.0,689.0,1197.0,1195.0,1049.0,847.0,599.9,485.0,577.0,1249.0,719.0,349.0,647.0,1119.0,1340.0,659.0,414.9,1193.0,1299.0,1480.0,1262.0,1379.0,1399.0,722.0,1629.0,1398.99,1084.0,1130.33,564.0,1118.0,479.0,2241.5,629.0,1271.0,451.0,259.0,812.0,277.99,1396.0,928.0,638.99,449.0,884.0,572.0,598.0,988.0,252.36,938.0,499.0,699.0,655.0,1116.02,869.0,602.0,369.0,1099.0,2014.0,344.0,2029.0,447.0,1249.26,899.0,498.0,1890.0,1082.0,619.0,629.0,1315.0,1049.0,447.0,403.0,805.0,728.0,1079.0,348.0,1799.0,363.51,1060.49,854.0,754.0,1349.0,699.0,309.0,489.0,923.0,459.0,449.0,2799.0,813.0,1499.0,1049.0,1399.0,1849.0,793.0,1199.0,1549.0,2397.0,779.0,989.0,1085.0,2824.0,260.0,999.9,698.0,839.0,914.0,6099.0,959.0,1379.0,1045.0,1845.0,493.0,742.0,1749.0,3055.0,1398.0,439.0,1949.0,1449.0,597.0,779.0,1407.0,349.0,549.0,1499.0,931.88,589.0,1031.0,1149.0,1279.0,677.35,899.0,1363.0,794.0,2456.34,832.0,859.01,769.0,891.0,1269.0,398.99,330.0,1499.0,859.0,689.0,899.0,390.0,575.0,3890.0,846.0,589.0,1145.0,889.0,879.0,1079.0,985.0,559.0,2999.0,675.0,2040.0,819.0,1799.0,469.0,1849.0,702.0,949.0,445.9,1059.0,2499.0,1699.0,1142.0,444.0,722.0,657.0,565.0,799.0,1499.0,467.0,1018.0,880.0,1958.9,1549.0,735.07,2499.0,812.0,713.07,1099.0,745.0,489.0,849.0,859.0,428.0,829.0,579.0,951.0,659.0,1097.0,977.0,1179.0,659.01,199.0,1187.0,489.0,1829.0,739.0,1299.0,979.0,2884.86,499.0,1468.0,509.0,2122.0,649.0,549.0,1265.0,359.99,1975.0,1043.0,819.0,469.0,999.0,2499.0,2099.0,469.0,275.0,844.0,2449.0,459.9,980.0,485.0,1292.0,589.0,1094.0,902.0,659.0,292.0,549.0,1049.9,1335.0,2639.0,1199.0,943.0,1334.0,449.0,999.0,1268.0,1049.0,1144.0,274.99,1142.75,274.9,899.0,716.0,2099.0,1579.0,1129.0,279.0,1607.96,375.0,663.0,2027.42,1304.0,1409.0,1738.27,1403.0,970.9,321.99,999.0,557.37,1427.0,439.0,945.0,719.0,639.0,499.0,389.0,1085.0,809.0,899.0,1750.0,1099.0,426.0,2199.0,489.0,869.01,488.99,553.0,309.0,286.0,846.0,1191.0,403.5,1655.0,1099.0,1748.9,2282.0,549.0,1369.0,2135.0,2509.0,1039.0,1591.0,693.99,1349.0,778.87,499.0,1229.56,938.0,2712.0,2625.0,306.0,1529.0,1144.5,879.0,2249.0,1873.0,1747.0,1680.0,409.0,304.45,1925.0,1943.0,469.0,789.01,928.0,598.9,689.0,1500.0,539.95,1215.38,1899.0,449.0,1427.0,597.0,2799.0,1159.0,1142.4,1099.0,1999.0,299.0,269.0,1010.0,599.0,2445.0,2449.0,1695.0,347.0,2199.0,2382.0,559.0,519.0,749.0,1429.0,349.0,1099.0,1179.0,441.8,1993.0,1027.74,2589.0,589.0,1975.0,1534.0,1345.0,979.0,479.0,2046.0,989.0,1799.0,639.9,544.0,435.0,749.0,799.0,2090.0,304.0,469.0,759.0,1699.0,1858.0,1999.0,1154.0,1275.0,1841.85,1299.0,740.0,2408.0,1364.0,675.0,1672.0,1262.0,586.6,726.0,248.9,565.0,1049.0,2338.0,1899.0,1798.0,1950.0,1011.99,2799.0,1350.0,579.0,1269.0,1099.0,898.9,1749.0,949.0,911.0,340.0,618.99,1599.0,299.0,265.0,949.0,1224.0,613.0,1323.0,1149.0,899.0,639.0,836.0,1219.24,1399.95,245.0,521.47,2968.0,889.0,1504.0,1399.0,1399.0,1279.73,689.0,889.0,1340.0,799.0,459.0,585.0,1377.0,3012.77,860.0,1299.0,369.0,1649.0,1369.0,797.41,398.99,1799.0,859.0,1399.0,735.87,1145.0,798.0,349.0,705.5,785.0,462.35,397.0,1729.0,499.0,1116.99,2699.0,544.15,1280.0,224.0,255.0,949.0,568.9,617.9,349.0,630.0,1965.0,2999.0,839.0,1599.0,959.0,739.0,344.0,990.0,1860.99,389.0,649.0,830.0,685.0,249.0,1865.0,2663.0,2729.0,749.01,389.0,1008.52,719.0,1537.39,295.0,2349.0,1498.0,1673.0,609.0,1770.0,739.0,949.0,603.0,1699.0,529.0,459.0,2025.0,1474.0,1670.0,1763.0,1219.0,668.48,329.0,2199.0,465.0,2299.0,1399.0,564.0,1299.0,349.0,4899.0,879.01,443.9,359.0,869.0,1168.0,569.0,1389.0,2267.86,379.0,1124.0,1465.0,776.0,799.0,932.0,899.0,239.0,468.0,639.01,1820.0,1900.0,1479.0,829.0,579.0,399.0,906.62,1869.0,249.0,1757.42,2399.0,1109.0,520.9,2450.0,1169.0,450.0,274.0,919.0,2599.0,1213.0,1584.0,2799.0,709.0,1449.9,1191.8,364.9,1064.0,919.0,1135.0,1196.0,3147.37,1229.0,419.0,535.0,539.0,1486.77,498.0,955.0,745.0,1258.0,412.0,1867.85,817.95,1034.0,349.0,699.0,1294.0,1135.0,495.0,2299.0,1299.0,997.9,419.0,2051.0,699.0,1499.0,2813.75,612.61,545.67,569.0,318.0,375.0,699.0,1907.99,2590.0,973.0,269.0,1749.0,669.0,1877.0,689.0,819.0,399.0,429.0,621.45,450.0,795.0,999.0,1855.0,1191.0,655.01,1249.0,1089.0,726.0,298.0,1426.66,857.07,1179.0,298.0,265.0,1200.0,1686.64,836.6,1499.0,3659.4,1348.48,489.9,719.0,649.0,589.52,489.0,1935.0,649.0,650.0,559.0,960.0,779.0,2419.0,659.0,2094.48,410.8,1207.0,665.0,1535.0,999.0,3299.0,330.0,1649.0,539.0,1126.71,4389.0,475.0,1900.0,579.0,1096.0,849.9,1199.0,1099.0,1561.0,2868.99,599.0,1048.0,1859.0,1559.0,1129.0,849.0,655.0,470.34,1099.0,1599.0,298.0,1181.27,1799.0,1020.0,1099.0,1244.0,839.0,2370.0,636.0,2899.0,581.9,3588.8,2350.0,1764.0,329.0,2299.0,1891.0,1089.0,999.0,2299.0,985.0,1339.0,202.9,1970.0,959.0,1165.0,2330.0,299.0,810.0,1349.0,739.0,2064.9,1099.0,1499.0,1749.0,744.0,1389.0,780.0,629.0,1679.0,609.0,1749.0,2415.0,1499.0,961.0,789.81,1859.0,1799.0,385.0,2505.02,755.0,489.9,1090.0,2499.0,1199.0,1875.0,499.0,1358.0,585.0,355.0,619.0,5499.0,2099.0,519.0,1186.0,1650.0,2774.63,2419.0,669.0,325.0,590.0,1799.0,3072.89,910.0,713.99,1870.0,739.0,615.0,1026.0,2277.0,1468.0,299.0,1899.0,865.0,1903.0,787.0,945.0,449.0,2559.0,649.0,469.0,850.66,1349.0,1285.0,1017.0,2240.0,910.0,1095.0,1950.0,902.0,1778.0,1055.0,479.0,1388.0,735.0,1849.0,1690.0,398.99,935.0,912.5,839.0,1700.0,684.8,348.0,669.0,369.0,1799.0,455.7,1369.9,297.0,379.0,1265.0,1399.0,1699.0,1799.0,2649.0,1475.0,929.0,900.0,614.0,935.0,2013.1,1279.0,1649.0,2049.0,1962.99,2099.0,1483.0,359.0,789.0,1899.0,1205.0,3100.0,789.0,1018.99,499.0,881.0,960.0,1599.0,1349.0,1119.91,684.99,1296.99,1149.0,1975.0,1825.0,729.9,1650.0,1165.0,708.06,1149.0,309.0,1579.0,288.9,1799.0,1105.0,1669.0,558.6,1199.0,1639.0,2758.0,1399.0,530.0,619.0,1119.0,1299.0,999.0,1472.2,685.0,659.0,349.0,2249.0,1775.0,1460.0,1159.0,1488.99,3154.0,1899.0,775.0,1268.0,389.0,1535.0,1760.0,1009.0,1790.0,846.5,465.62,825.0,685.0,3149.0,695.0,1899.0,1962.98,2800.0,1180.0,2049.9,979.0,1002.0,1799.0,579.0,1749.0,1299.0,1195.0,549.0,649.0,915.0,599.0,806.0,1189.0,749.0,1119.0,1908.0,499.0,270.62,1349.0,889.0,1150.0,1349.0,380.0,1799.0,2089.0,1260.0,1189.0,547.0,779.0,1195.0,1099.99,1205.0,1449.0,1049.26,684.0,949.0,1539.0,1590.0,1887.21,800.0,1210.0,769.99,2968.0,1490.0,2229.0,795.99,1590.0,1149.0,1185.43,1046.44,1559.0,1189.0,1060.0,1624.0,1080.0,973.0,409.0,1191.8,1195.0,1228.99,1349.0,742.0,1725.0,1062.95,1010.51,847.0,210.8,1425.0,1049.6,1000.0,2103.34,1469.0,1545.64,2289.99,287.9,2620.0,979.0,1094.0,979.0,2254.0,705.15,499.0,449.0,1299.0,1819.0,1070.0,998.0,559.0,989.99,1929.0,1458.0,3975.0,798.01,1329.0,1300.0,481.98,1199.0,1199.0,1090.0,1713.49,659.0,977.0,2499.0,540.0,940.0,1399.0,3240.0,646.27,2049.0,750.0,1030.99,1495.0,1199.0,615.0,387.0,393.49,345.99,1599.0,818.35,1599.0,799.0,638.8,1599.0,500.0,2299.0,1135.15,1166.97,209.0,2899.0,1199.0,1413.1,1511.19,867.0,398.0,1339.0,1699.0,769.15,429.0,1969.0,549.0,1379.0,2749.99,1029.0,2226.0,1312.49,196.0,1690.0,1513.0,523.63,435.0,1669.0,479.0,1895.0,989.0,1129.0,629.0,2050.38,278.0,752.0,616.0,1099.0,3949.4,784.0,2399.0,2171.72,2440.0,1142.8,1629.0,2229.0,1799.0,1899.0,2296.95,1009.9,1579.0,2339.0,339.0,297.0,599.0,1199.0,2250.68,478.89,1492.8,2299.0,788.49,2041.0,1499.0,1769.0,899.0,459.0,476.99,1498.0,1390.0,468.0,249.0,839.0,679.0,1159.0,369.0,398.0,709.0,769.0,825.0,1305.0,2153.37,650.0,1637.0,831.0,895.01,333.0,799.0,909.0,1179.0,691.0,1099.0,2599.0,819.0,659.0,485.0,1163.0,1199.0,1327.0,368.0,2150.0,272.0,2048.9,499.0,629.0,1285.0,2680.0,1169.0,889.0,579.0,299.0,629.0,2449.0,1279.0,1749.0,1948.99,999.0,1949.0,174.0,598.0,539.0,1272.0,1149.0,1529.0,1476.11,529.0,1713.37,509.0,309.0,1477.0,521.86,1029.0,1149.0,1650.0,3499.0,469.01,1598.0,959.0,478.0,2198.19,737.0,1169.0,1499.0,597.57,1280.0,361.8,1799.0,1099.99,1600.0,875.0,2325.0,573.0,1813.0,324.0,399.0,569.0,1072.0,443.99,339.0,1900.0,490.0,895.0,1229.0,833.01,729.0,459.0,289.0,379.0,899.0,549.99,805.99,209.0,720.32,638.0,1499.0,229.0,764.0,369.0,729.0,459.0,289.0,379.0,899.0,549.99,805.99,209.0,720.32,638.0,1499.0,229.0,764.0,369.0,729.0,459.0,289.0,379.0,899.0,549.99,805.99,209.0,720.32,638.0,1499.0,229.0,764.0,369.0],\"yaxis\":\"y\"}],                        {\"legend\":{\"tracegroupgap\":0},\"template\":{\"data\":{\"bar\":[{\"error_x\":{\"color\":\"#2a3f5f\"},\"error_y\":{\"color\":\"#2a3f5f\"},\"marker\":{\"line\":{\"color\":\"#E5ECF6\",\"width\":0.5},\"pattern\":{\"fillmode\":\"overlay\",\"size\":10,\"solidity\":0.2}},\"type\":\"bar\"}],\"barpolar\":[{\"marker\":{\"line\":{\"color\":\"#E5ECF6\",\"width\":0.5},\"pattern\":{\"fillmode\":\"overlay\",\"size\":10,\"solidity\":0.2}},\"type\":\"barpolar\"}],\"carpet\":[{\"aaxis\":{\"endlinecolor\":\"#2a3f5f\",\"gridcolor\":\"white\",\"linecolor\":\"white\",\"minorgridcolor\":\"white\",\"startlinecolor\":\"#2a3f5f\"},\"baxis\":{\"endlinecolor\":\"#2a3f5f\",\"gridcolor\":\"white\",\"linecolor\":\"white\",\"minorgridcolor\":\"white\",\"startlinecolor\":\"#2a3f5f\"},\"type\":\"carpet\"}],\"choropleth\":[{\"colorbar\":{\"outlinewidth\":0,\"ticks\":\"\"},\"type\":\"choropleth\"}],\"contour\":[{\"colorbar\":{\"outlinewidth\":0,\"ticks\":\"\"},\"colorscale\":[[0.0,\"#0d0887\"],[0.1111111111111111,\"#46039f\"],[0.2222222222222222,\"#7201a8\"],[0.3333333333333333,\"#9c179e\"],[0.4444444444444444,\"#bd3786\"],[0.5555555555555556,\"#d8576b\"],[0.6666666666666666,\"#ed7953\"],[0.7777777777777778,\"#fb9f3a\"],[0.8888888888888888,\"#fdca26\"],[1.0,\"#f0f921\"]],\"type\":\"contour\"}],\"contourcarpet\":[{\"colorbar\":{\"outlinewidth\":0,\"ticks\":\"\"},\"type\":\"contourcarpet\"}],\"heatmap\":[{\"colorbar\":{\"outlinewidth\":0,\"ticks\":\"\"},\"colorscale\":[[0.0,\"#0d0887\"],[0.1111111111111111,\"#46039f\"],[0.2222222222222222,\"#7201a8\"],[0.3333333333333333,\"#9c179e\"],[0.4444444444444444,\"#bd3786\"],[0.5555555555555556,\"#d8576b\"],[0.6666666666666666,\"#ed7953\"],[0.7777777777777778,\"#fb9f3a\"],[0.8888888888888888,\"#fdca26\"],[1.0,\"#f0f921\"]],\"type\":\"heatmap\"}],\"heatmapgl\":[{\"colorbar\":{\"outlinewidth\":0,\"ticks\":\"\"},\"colorscale\":[[0.0,\"#0d0887\"],[0.1111111111111111,\"#46039f\"],[0.2222222222222222,\"#7201a8\"],[0.3333333333333333,\"#9c179e\"],[0.4444444444444444,\"#bd3786\"],[0.5555555555555556,\"#d8576b\"],[0.6666666666666666,\"#ed7953\"],[0.7777777777777778,\"#fb9f3a\"],[0.8888888888888888,\"#fdca26\"],[1.0,\"#f0f921\"]],\"type\":\"heatmapgl\"}],\"histogram\":[{\"marker\":{\"pattern\":{\"fillmode\":\"overlay\",\"size\":10,\"solidity\":0.2}},\"type\":\"histogram\"}],\"histogram2d\":[{\"colorbar\":{\"outlinewidth\":0,\"ticks\":\"\"},\"colorscale\":[[0.0,\"#0d0887\"],[0.1111111111111111,\"#46039f\"],[0.2222222222222222,\"#7201a8\"],[0.3333333333333333,\"#9c179e\"],[0.4444444444444444,\"#bd3786\"],[0.5555555555555556,\"#d8576b\"],[0.6666666666666666,\"#ed7953\"],[0.7777777777777778,\"#fb9f3a\"],[0.8888888888888888,\"#fdca26\"],[1.0,\"#f0f921\"]],\"type\":\"histogram2d\"}],\"histogram2dcontour\":[{\"colorbar\":{\"outlinewidth\":0,\"ticks\":\"\"},\"colorscale\":[[0.0,\"#0d0887\"],[0.1111111111111111,\"#46039f\"],[0.2222222222222222,\"#7201a8\"],[0.3333333333333333,\"#9c179e\"],[0.4444444444444444,\"#bd3786\"],[0.5555555555555556,\"#d8576b\"],[0.6666666666666666,\"#ed7953\"],[0.7777777777777778,\"#fb9f3a\"],[0.8888888888888888,\"#fdca26\"],[1.0,\"#f0f921\"]],\"type\":\"histogram2dcontour\"}],\"mesh3d\":[{\"colorbar\":{\"outlinewidth\":0,\"ticks\":\"\"},\"type\":\"mesh3d\"}],\"parcoords\":[{\"line\":{\"colorbar\":{\"outlinewidth\":0,\"ticks\":\"\"}},\"type\":\"parcoords\"}],\"pie\":[{\"automargin\":true,\"type\":\"pie\"}],\"scatter\":[{\"marker\":{\"colorbar\":{\"outlinewidth\":0,\"ticks\":\"\"}},\"type\":\"scatter\"}],\"scatter3d\":[{\"line\":{\"colorbar\":{\"outlinewidth\":0,\"ticks\":\"\"}},\"marker\":{\"colorbar\":{\"outlinewidth\":0,\"ticks\":\"\"}},\"type\":\"scatter3d\"}],\"scattercarpet\":[{\"marker\":{\"colorbar\":{\"outlinewidth\":0,\"ticks\":\"\"}},\"type\":\"scattercarpet\"}],\"scattergeo\":[{\"marker\":{\"colorbar\":{\"outlinewidth\":0,\"ticks\":\"\"}},\"type\":\"scattergeo\"}],\"scattergl\":[{\"marker\":{\"colorbar\":{\"outlinewidth\":0,\"ticks\":\"\"}},\"type\":\"scattergl\"}],\"scattermapbox\":[{\"marker\":{\"colorbar\":{\"outlinewidth\":0,\"ticks\":\"\"}},\"type\":\"scattermapbox\"}],\"scatterpolar\":[{\"marker\":{\"colorbar\":{\"outlinewidth\":0,\"ticks\":\"\"}},\"type\":\"scatterpolar\"}],\"scatterpolargl\":[{\"marker\":{\"colorbar\":{\"outlinewidth\":0,\"ticks\":\"\"}},\"type\":\"scatterpolargl\"}],\"scatterternary\":[{\"marker\":{\"colorbar\":{\"outlinewidth\":0,\"ticks\":\"\"}},\"type\":\"scatterternary\"}],\"surface\":[{\"colorbar\":{\"outlinewidth\":0,\"ticks\":\"\"},\"colorscale\":[[0.0,\"#0d0887\"],[0.1111111111111111,\"#46039f\"],[0.2222222222222222,\"#7201a8\"],[0.3333333333333333,\"#9c179e\"],[0.4444444444444444,\"#bd3786\"],[0.5555555555555556,\"#d8576b\"],[0.6666666666666666,\"#ed7953\"],[0.7777777777777778,\"#fb9f3a\"],[0.8888888888888888,\"#fdca26\"],[1.0,\"#f0f921\"]],\"type\":\"surface\"}],\"table\":[{\"cells\":{\"fill\":{\"color\":\"#EBF0F8\"},\"line\":{\"color\":\"white\"}},\"header\":{\"fill\":{\"color\":\"#C8D4E3\"},\"line\":{\"color\":\"white\"}},\"type\":\"table\"}]},\"layout\":{\"annotationdefaults\":{\"arrowcolor\":\"#2a3f5f\",\"arrowhead\":0,\"arrowwidth\":1},\"autotypenumbers\":\"strict\",\"coloraxis\":{\"colorbar\":{\"outlinewidth\":0,\"ticks\":\"\"}},\"colorscale\":{\"diverging\":[[0,\"#8e0152\"],[0.1,\"#c51b7d\"],[0.2,\"#de77ae\"],[0.3,\"#f1b6da\"],[0.4,\"#fde0ef\"],[0.5,\"#f7f7f7\"],[0.6,\"#e6f5d0\"],[0.7,\"#b8e186\"],[0.8,\"#7fbc41\"],[0.9,\"#4d9221\"],[1,\"#276419\"]],\"sequential\":[[0.0,\"#0d0887\"],[0.1111111111111111,\"#46039f\"],[0.2222222222222222,\"#7201a8\"],[0.3333333333333333,\"#9c179e\"],[0.4444444444444444,\"#bd3786\"],[0.5555555555555556,\"#d8576b\"],[0.6666666666666666,\"#ed7953\"],[0.7777777777777778,\"#fb9f3a\"],[0.8888888888888888,\"#fdca26\"],[1.0,\"#f0f921\"]],\"sequentialminus\":[[0.0,\"#0d0887\"],[0.1111111111111111,\"#46039f\"],[0.2222222222222222,\"#7201a8\"],[0.3333333333333333,\"#9c179e\"],[0.4444444444444444,\"#bd3786\"],[0.5555555555555556,\"#d8576b\"],[0.6666666666666666,\"#ed7953\"],[0.7777777777777778,\"#fb9f3a\"],[0.8888888888888888,\"#fdca26\"],[1.0,\"#f0f921\"]]},\"colorway\":[\"#636efa\",\"#EF553B\",\"#00cc96\",\"#ab63fa\",\"#FFA15A\",\"#19d3f3\",\"#FF6692\",\"#B6E880\",\"#FF97FF\",\"#FECB52\"],\"font\":{\"color\":\"#2a3f5f\"},\"geo\":{\"bgcolor\":\"white\",\"lakecolor\":\"white\",\"landcolor\":\"#E5ECF6\",\"showlakes\":true,\"showland\":true,\"subunitcolor\":\"white\"},\"hoverlabel\":{\"align\":\"left\"},\"hovermode\":\"closest\",\"mapbox\":{\"style\":\"light\"},\"paper_bgcolor\":\"white\",\"plot_bgcolor\":\"#E5ECF6\",\"polar\":{\"angularaxis\":{\"gridcolor\":\"white\",\"linecolor\":\"white\",\"ticks\":\"\"},\"bgcolor\":\"#E5ECF6\",\"radialaxis\":{\"gridcolor\":\"white\",\"linecolor\":\"white\",\"ticks\":\"\"}},\"scene\":{\"xaxis\":{\"backgroundcolor\":\"#E5ECF6\",\"gridcolor\":\"white\",\"gridwidth\":2,\"linecolor\":\"white\",\"showbackground\":true,\"ticks\":\"\",\"zerolinecolor\":\"white\"},\"yaxis\":{\"backgroundcolor\":\"#E5ECF6\",\"gridcolor\":\"white\",\"gridwidth\":2,\"linecolor\":\"white\",\"showbackground\":true,\"ticks\":\"\",\"zerolinecolor\":\"white\"},\"zaxis\":{\"backgroundcolor\":\"#E5ECF6\",\"gridcolor\":\"white\",\"gridwidth\":2,\"linecolor\":\"white\",\"showbackground\":true,\"ticks\":\"\",\"zerolinecolor\":\"white\"}},\"shapedefaults\":{\"line\":{\"color\":\"#2a3f5f\"}},\"ternary\":{\"aaxis\":{\"gridcolor\":\"white\",\"linecolor\":\"white\",\"ticks\":\"\"},\"baxis\":{\"gridcolor\":\"white\",\"linecolor\":\"white\",\"ticks\":\"\"},\"bgcolor\":\"#E5ECF6\",\"caxis\":{\"gridcolor\":\"white\",\"linecolor\":\"white\",\"ticks\":\"\"}},\"title\":{\"x\":0.05},\"xaxis\":{\"automargin\":true,\"gridcolor\":\"white\",\"linecolor\":\"white\",\"ticks\":\"\",\"title\":{\"standoff\":15},\"zerolinecolor\":\"white\",\"zerolinewidth\":2},\"yaxis\":{\"automargin\":true,\"gridcolor\":\"white\",\"linecolor\":\"white\",\"ticks\":\"\",\"title\":{\"standoff\":15},\"zerolinecolor\":\"white\",\"zerolinewidth\":2}}},\"title\":{\"text\":\"Price(\\u20ac) according to Company\"},\"xaxis\":{\"anchor\":\"y\",\"domain\":[0.0,1.0],\"title\":{\"text\":\"Company\"}},\"yaxis\":{\"anchor\":\"x\",\"domain\":[0.0,1.0],\"title\":{\"text\":\"Price_euros\"}}},                        {\"responsive\": true}                    ).then(function(){\n",
       "                            \n",
       "var gd = document.getElementById('a0f5eb1d-ed20-4c84-9fba-65d7db3be3ad');\n",
       "var x = new MutationObserver(function (mutations, observer) {{\n",
       "        var display = window.getComputedStyle(gd).display;\n",
       "        if (!display || display === 'none') {{\n",
       "            console.log([gd, 'removed!']);\n",
       "            Plotly.purge(gd);\n",
       "            observer.disconnect();\n",
       "        }}\n",
       "}});\n",
       "\n",
       "// Listen for the removal of the full notebook cells\n",
       "var notebookContainer = gd.closest('#notebook-container');\n",
       "if (notebookContainer) {{\n",
       "    x.observe(notebookContainer, {childList: true});\n",
       "}}\n",
       "\n",
       "// Listen for the clearing of the current output cell\n",
       "var outputEl = gd.closest('.output');\n",
       "if (outputEl) {{\n",
       "    x.observe(outputEl, {childList: true});\n",
       "}}\n",
       "\n",
       "                        })                };                });            </script>        </div>"
      ]
     },
     "metadata": {},
     "output_type": "display_data"
    },
    {
     "data": {
      "text/plain": [
       "<Figure size 1080x720 with 0 Axes>"
      ]
     },
     "metadata": {},
     "output_type": "display_data"
    }
   ],
   "source": [
    "plt.figure(figsize=(15,10))\n",
    "fig = px.scatter(df, \n",
    "                 x='Company', \n",
    "                 y='Price_euros', \n",
    "                 opacity=0.6, \n",
    "                 title='Price(€) according to Company')\n",
    "fig.update_traces(marker_size=6)\n",
    "fig.write_html(\"file.html\")\n",
    "fig.show()"
   ]
  },
  {
   "cell_type": "code",
   "execution_count": 49,
   "id": "d4ff3295",
   "metadata": {},
   "outputs": [
    {
     "data": {
      "text/plain": [
       "Text(0.5, 1.0, 'Frequency of prices')"
      ]
     },
     "execution_count": 49,
     "metadata": {},
     "output_type": "execute_result"
    },
    {
     "data": {
      "image/png": "[encoded data removed]",
      "text/plain": [
       "<Figure size 864x576 with 1 Axes>"
      ]
     },
     "metadata": {
      "needs_background": "light"
     },
     "output_type": "display_data"
    }
   ],
   "source": [
    "plt.figure(figsize=(12,8))\n",
    "ax=sns.histplot(df['Price_euros'],color='#91a7b9',bins=40)\n",
    "plt.title('Frequency of prices')"
   ]
  },
  {
   "cell_type": "code",
   "execution_count": 50,
   "id": "e9ee8749",
   "metadata": {
    "scrolled": false
   },
   "outputs": [
    {
     "data": {
      "image/png": "[encoded data removed]",
      "text/plain": [
       "<Figure size 864x576 with 1 Axes>"
      ]
     },
     "metadata": {
      "needs_background": "light"
     },
     "output_type": "display_data"
    }
   ],
   "source": [
    "plt.figure(figsize=(12,8))\n",
    "a.plot.bar(color=['#003f5c','#2f4b7c','#665191','#a05195','#d45087','#f95d6a','#ff7c43','#ffa600'])\n",
    "plt.title(\"Number of Laptop models in each Company\")\n",
    "plt.show()"
   ]
  },
  {
   "cell_type": "markdown",
   "id": "84f6c899",
   "metadata": {},
   "source": [
    "> **Compines with more laptop models are *(lenovo, Dell, HP)***"
   ]
  },
  {
   "cell_type": "code",
   "execution_count": 51,
   "id": "c86b9db8",
   "metadata": {},
   "outputs": [
    {
     "data": {
      "text/plain": [
       "Text(0.5, 1.0, 'Type to Price (€)')"
      ]
     },
     "execution_count": 51,
     "metadata": {},
     "output_type": "execute_result"
    },
    {
     "data": {
      "image/png": "[encoded data removed]",
      "text/plain": [
       "<Figure size 864x576 with 1 Axes>"
      ]
     },
     "metadata": {
      "needs_background": "light"
     },
     "output_type": "display_data"
    }
   ],
   "source": [
    "plt.figure(figsize=(12,8))\n",
    "plt.scatter(df['TypeName'],df['Price_euros'])\n",
    "plt.title(\"Type to Price (€)\")"
   ]
  },
  {
   "cell_type": "code",
   "execution_count": 52,
   "id": "a9ab80dd",
   "metadata": {},
   "outputs": [
    {
     "data": {
      "text/plain": [
       "Text(0.5, 1.0, 'Number of laptop models in each Type')"
      ]
     },
     "execution_count": 52,
     "metadata": {},
     "output_type": "execute_result"
    },
    {
     "data": {
      "image/png": "[encoded data removed]",
      "text/plain": [
       "<Figure size 720x432 with 1 Axes>"
      ]
     },
     "metadata": {
      "needs_background": "light"
     },
     "output_type": "display_data"
    }
   ],
   "source": [
    "plt.figure(figsize=(10,6))\n",
    "df['TypeName'].value_counts().plot(kind='bar',color=['#00906c','#62a16d','#a2b975','#dfcf89','#e0a460','#de754d'])\n",
    "plt.title(\"Number of laptop models in each Type\")"
   ]
  },
  {
   "cell_type": "code",
   "execution_count": 53,
   "id": "5ce1fa4a",
   "metadata": {
    "scrolled": false
   },
   "outputs": [
    {
     "data": {
      "text/plain": [
       "Text(0.5, 1.0, 'Price(€) to Type')"
      ]
     },
     "execution_count": 53,
     "metadata": {},
     "output_type": "execute_result"
    },
    {
     "data": {
      "image/png": "[encoded data removed]",
      "text/plain": [
       "<Figure size 648x432 with 1 Axes>"
      ]
     },
     "metadata": {
      "needs_background": "light"
     },
     "output_type": "display_data"
    }
   ],
   "source": [
    "plt.figure(figsize=(9,6))\n",
    "sns.barplot(x=df['TypeName'],y=df['Price_euros'])\n",
    "plt.title(\"Price(€) to Type\")"
   ]
  },
  {
   "cell_type": "markdown",
   "id": "19942b9d",
   "metadata": {},
   "source": [
    "> **Types with highest average price are:**\n",
    "> 1. Workstation\n",
    "> 2. Gaming\n",
    "> 3. Ultrabook"
   ]
  },
  {
   "cell_type": "code",
   "execution_count": 54,
   "id": "41a03405",
   "metadata": {},
   "outputs": [
    {
     "data": {
      "image/png": "[encoded data removed]",
      "text/plain": [
       "<Figure size 864x504 with 1 Axes>"
      ]
     },
     "metadata": {
      "needs_background": "light"
     },
     "output_type": "display_data"
    }
   ],
   "source": [
    "plt.figure(figsize=(12,7))\n",
    "sns.barplot(x=df['Company'],y=df['Price_euros'])\n",
    "plt.xticks(rotation='vertical')\n",
    "plt.title(\"laptops prices of different companies \")\n",
    "plt.show()"
   ]
  },
  {
   "cell_type": "code",
   "execution_count": 55,
   "id": "052d9967",
   "metadata": {
    "scrolled": false
   },
   "outputs": [
    {
     "name": "stderr",
     "output_type": "stream",
     "text": [
      "/home/skaad/anaconda3/lib/python3.8/site-packages/seaborn/distributions.py:2557: FutureWarning:\n",
      "\n",
      "`distplot` is a deprecated function and will be removed in a future version. Please adapt your code to use either `displot` (a figure-level function with similar flexibility) or `histplot` (an axes-level function for histograms).\n",
      "\n"
     ]
    },
    {
     "data": {
      "text/plain": [
       "Text(0.5, 1.0, 'Frequency of  Screen-Size')"
      ]
     },
     "execution_count": 55,
     "metadata": {},
     "output_type": "execute_result"
    },
    {
     "data": {
      "image/png": "[encoded data removed]",
      "text/plain": [
       "<Figure size 648x432 with 1 Axes>"
      ]
     },
     "metadata": {
      "needs_background": "light"
     },
     "output_type": "display_data"
    }
   ],
   "source": [
    "plt.figure(figsize=(9,6))\n",
    "sns.distplot(df['Inches'],color='#60afc5')\n",
    "plt.title(\"Frequency of  Screen-Size\")"
   ]
  },
  {
   "cell_type": "code",
   "execution_count": 56,
   "id": "ca3e8c44",
   "metadata": {
    "scrolled": false
   },
   "outputs": [
    {
     "data": {
      "text/plain": [
       "Text(0.5, 1.0, 'Laptop Price According to Inches')"
      ]
     },
     "execution_count": 56,
     "metadata": {},
     "output_type": "execute_result"
    },
    {
     "data": {
      "image/png": "[encoded data removed]",
      "text/plain": [
       "<Figure size 648x432 with 1 Axes>"
      ]
     },
     "metadata": {
      "needs_background": "light"
     },
     "output_type": "display_data"
    }
   ],
   "source": [
    "plt.figure(figsize=(9,6))\n",
    "sns.scatterplot(x=df['Inches'],y=df['Price_euros'])\n",
    "plt.title('Laptop Price According to Inches')"
   ]
  },
  {
   "cell_type": "code",
   "execution_count": 57,
   "id": "d2590dbc",
   "metadata": {
    "scrolled": true
   },
   "outputs": [
    {
     "data": {
      "text/plain": [
       "Text(0.5, 1.0, 'Count of Laptops with different Ram Sizes')"
      ]
     },
     "execution_count": 57,
     "metadata": {},
     "output_type": "execute_result"
    },
    {
     "data": {
      "image/png": "[encoded data removed]",
      "text/plain": [
       "<Figure size 432x288 with 1 Axes>"
      ]
     },
     "metadata": {
      "needs_background": "light"
     },
     "output_type": "display_data"
    }
   ],
   "source": [
    "df['Ram'].value_counts().plot(kind='bar',color=['#3f118f','#522594','#633699','#72479e','#8058a3','#8c5bbb','#9a6ac4'])\n",
    "plt.title(\"Count of Laptops with different Ram Sizes\")"
   ]
  },
  {
   "cell_type": "code",
   "execution_count": 58,
   "id": "56c6c234",
   "metadata": {
    "scrolled": true
   },
   "outputs": [
    {
     "data": {
      "image/png": "[encoded data removed]",
      "text/plain": [
       "<Figure size 432x288 with 1 Axes>"
      ]
     },
     "metadata": {
      "needs_background": "light"
     },
     "output_type": "display_data"
    }
   ],
   "source": [
    "sns.barplot(x=df['Ram'],y=df['Price_euros'])\n",
    "plt.xticks(rotation='vertical')\n",
    "plt.title('Laptop Price According to Ram Size')\n",
    "plt.show()"
   ]
  },
  {
   "cell_type": "code",
   "execution_count": 59,
   "id": "bcd13bd0",
   "metadata": {},
   "outputs": [
    {
     "data": {
      "text/plain": [
       "Text(0.5, 1.0, 'Count of used OS')"
      ]
     },
     "execution_count": 59,
     "metadata": {},
     "output_type": "execute_result"
    },
    {
     "data": {
      "image/png": "[encoded data removed]",
      "text/plain": [
       "<Figure size 432x288 with 1 Axes>"
      ]
     },
     "metadata": {
      "needs_background": "light"
     },
     "output_type": "display_data"
    }
   ],
   "source": [
    "df['OpSys'].value_counts().plot(kind='bar',color=['#077b8a','#de425b','#a2d5c6','#5c3c92','#e0a460','#de754d'])\n",
    "plt.title(\"Count of used OS\")\n"
   ]
  },
  {
   "cell_type": "code",
   "execution_count": 60,
   "id": "3d55102e",
   "metadata": {},
   "outputs": [
    {
     "data": {
      "image/png": "[encoded data removed]",
      "text/plain": [
       "<Figure size 432x288 with 1 Axes>"
      ]
     },
     "metadata": {
      "needs_background": "light"
     },
     "output_type": "display_data"
    }
   ],
   "source": [
    "sns.barplot(x=df['OpSys'],y=df['Price_euros'])\n",
    "plt.xticks(rotation='vertical')\n",
    "plt.title('Laptop Price According to Operating Sys')\n",
    "plt.show()"
   ]
  },
  {
   "cell_type": "code",
   "execution_count": 61,
   "id": "b7309fad",
   "metadata": {},
   "outputs": [],
   "source": [
    "# Ram & Weight preprocessing\n",
    "df['Ram']=df['Ram'].str.replace('GB','')\n",
    "df['Weight'] = df['Weight'].str.replace('kg','')"
   ]
  },
  {
   "cell_type": "code",
   "execution_count": 62,
   "id": "01241a6d",
   "metadata": {
    "scrolled": false
   },
   "outputs": [
    {
     "name": "stderr",
     "output_type": "stream",
     "text": [
      "/home/skaad/anaconda3/lib/python3.8/site-packages/seaborn/distributions.py:2557: FutureWarning:\n",
      "\n",
      "`distplot` is a deprecated function and will be removed in a future version. Please adapt your code to use either `displot` (a figure-level function with similar flexibility) or `kdeplot` (an axes-level function for kernel density plots).\n",
      "\n"
     ]
    },
    {
     "data": {
      "text/plain": [
       "<AxesSubplot:xlabel='Weight', ylabel='Density'>"
      ]
     },
     "execution_count": 62,
     "metadata": {},
     "output_type": "execute_result"
    },
    {
     "data": {
      "image/png": "[encoded data removed]",
      "text/plain": [
       "<Figure size 432x288 with 1 Axes>"
      ]
     },
     "metadata": {
      "needs_background": "light"
     },
     "output_type": "display_data"
    }
   ],
   "source": [
    "sns.distplot(df['Weight'],hist=False)"
   ]
  },
  {
   "cell_type": "markdown",
   "id": "e5ec2a86",
   "metadata": {},
   "source": [
    "## Preprocessiong Data"
   ]
  },
  {
   "cell_type": "markdown",
   "id": "a430dab9",
   "metadata": {},
   "source": [
    "#### -Handle missing values & duplicates"
   ]
  },
  {
   "cell_type": "code",
   "execution_count": 63,
   "id": "c3b24b51",
   "metadata": {},
   "outputs": [
    {
     "data": {
      "text/plain": [
       "laptop_ID           0\n",
       "Company             0\n",
       "Product             0\n",
       "TypeName            0\n",
       "Inches              0\n",
       "ScreenResolution    0\n",
       "Cpu                 0\n",
       "Ram                 0\n",
       "Memory              0\n",
       "Gpu                 0\n",
       "OpSys               0\n",
       "Weight              0\n",
       "Price_euros         0\n",
       "dtype: int64"
      ]
     },
     "execution_count": 63,
     "metadata": {},
     "output_type": "execute_result"
    }
   ],
   "source": [
    "df.isna().sum()"
   ]
  },
  {
   "cell_type": "code",
   "execution_count": 64,
   "id": "5ca817c1",
   "metadata": {},
   "outputs": [
    {
     "data": {
      "text/plain": [
       "0"
      ]
     },
     "execution_count": 64,
     "metadata": {},
     "output_type": "execute_result"
    }
   ],
   "source": [
    "df.duplicated().sum()"
   ]
  },
  {
   "cell_type": "markdown",
   "id": "8b45e296",
   "metadata": {},
   "source": [
    "> ***no missing values , no duplicated values***"
   ]
  },
  {
   "cell_type": "code",
   "execution_count": 65,
   "id": "fdb2e9c4",
   "metadata": {},
   "outputs": [],
   "source": [
    "df=df.drop('laptop_ID',axis=1)"
   ]
  },
  {
   "cell_type": "code",
   "execution_count": 66,
   "id": "aeb1bd30",
   "metadata": {},
   "outputs": [],
   "source": [
    "# Memory preprocessing\n",
    "df[\"Memory\"] = df[\"Memory\"].str.replace('GB', ' ')\n",
    "df[\"Memory\"] = df[\"Memory\"].str.replace('TB', '000')\n",
    "sliced = df[\"Memory\"].str.split(\" \", n = 1, expand = True)\n",
    "df['storage']=sliced[0]\n",
    "df['storage_type']=sliced[1]\n",
    "df=df.drop('Memory',axis=1)"
   ]
  },
  {
   "cell_type": "code",
   "execution_count": 67,
   "id": "fdd7317f",
   "metadata": {},
   "outputs": [],
   "source": [
    "#ScreenResolution preprocessing\n",
    "df['Touchscreen'] = df['ScreenResolution'].apply(lambda x:1 if 'Touchscreen' in x else 0)\n",
    "df['Ips'] = df['ScreenResolution'].apply(lambda x:1 if 'IPS' in x else 0)"
   ]
  },
  {
   "cell_type": "code",
   "execution_count": 68,
   "id": "7d064254",
   "metadata": {},
   "outputs": [
    {
     "data": {
      "text/plain": [
       "0       1\n",
       "1       0\n",
       "2       0\n",
       "3       1\n",
       "4       1\n",
       "       ..\n",
       "1298    1\n",
       "1299    1\n",
       "1300    0\n",
       "1301    0\n",
       "1302    0\n",
       "Name: Ips, Length: 1303, dtype: int64"
      ]
     },
     "execution_count": 68,
     "metadata": {},
     "output_type": "execute_result"
    }
   ],
   "source": [
    "df['Ips']"
   ]
  },
  {
   "cell_type": "code",
   "execution_count": 69,
   "id": "0f913ec1",
   "metadata": {
    "scrolled": true
   },
   "outputs": [
    {
     "data": {
      "text/html": [
       "<div>\n",
       "<style scoped>\n",
       "    .dataframe tbody tr th:only-of-type {\n",
       "        vertical-align: middle;\n",
       "    }\n",
       "\n",
       "    .dataframe tbody tr th {\n",
       "        vertical-align: top;\n",
       "    }\n",
       "\n",
       "    .dataframe thead th {\n",
       "        text-align: right;\n",
       "    }\n",
       "</style>\n",
       "<table border=\"1\" class=\"dataframe\">\n",
       "  <thead>\n",
       "    <tr style=\"text-align: right;\">\n",
       "      <th></th>\n",
       "      <th>0</th>\n",
       "      <th>1</th>\n",
       "    </tr>\n",
       "  </thead>\n",
       "  <tbody>\n",
       "    <tr>\n",
       "      <th>0</th>\n",
       "      <td>IPS Panel Retina Display 2560</td>\n",
       "      <td>1600</td>\n",
       "    </tr>\n",
       "    <tr>\n",
       "      <th>1</th>\n",
       "      <td>1440</td>\n",
       "      <td>900</td>\n",
       "    </tr>\n",
       "    <tr>\n",
       "      <th>2</th>\n",
       "      <td>Full HD 1920</td>\n",
       "      <td>1080</td>\n",
       "    </tr>\n",
       "    <tr>\n",
       "      <th>3</th>\n",
       "      <td>IPS Panel Retina Display 2880</td>\n",
       "      <td>1800</td>\n",
       "    </tr>\n",
       "    <tr>\n",
       "      <th>4</th>\n",
       "      <td>IPS Panel Retina Display 2560</td>\n",
       "      <td>1600</td>\n",
       "    </tr>\n",
       "    <tr>\n",
       "      <th>...</th>\n",
       "      <td>...</td>\n",
       "      <td>...</td>\n",
       "    </tr>\n",
       "    <tr>\n",
       "      <th>1298</th>\n",
       "      <td>IPS Panel Full HD / Touchscreen 1920</td>\n",
       "      <td>1080</td>\n",
       "    </tr>\n",
       "    <tr>\n",
       "      <th>1299</th>\n",
       "      <td>IPS Panel Quad HD+ / Touchscreen 3200</td>\n",
       "      <td>1800</td>\n",
       "    </tr>\n",
       "    <tr>\n",
       "      <th>1300</th>\n",
       "      <td>1366</td>\n",
       "      <td>768</td>\n",
       "    </tr>\n",
       "    <tr>\n",
       "      <th>1301</th>\n",
       "      <td>1366</td>\n",
       "      <td>768</td>\n",
       "    </tr>\n",
       "    <tr>\n",
       "      <th>1302</th>\n",
       "      <td>1366</td>\n",
       "      <td>768</td>\n",
       "    </tr>\n",
       "  </tbody>\n",
       "</table>\n",
       "<p>1303 rows × 2 columns</p>\n",
       "</div>"
      ],
      "text/plain": [
       "                                          0     1\n",
       "0             IPS Panel Retina Display 2560  1600\n",
       "1                                      1440   900\n",
       "2                              Full HD 1920  1080\n",
       "3             IPS Panel Retina Display 2880  1800\n",
       "4             IPS Panel Retina Display 2560  1600\n",
       "...                                     ...   ...\n",
       "1298   IPS Panel Full HD / Touchscreen 1920  1080\n",
       "1299  IPS Panel Quad HD+ / Touchscreen 3200  1800\n",
       "1300                                   1366   768\n",
       "1301                                   1366   768\n",
       "1302                                   1366   768\n",
       "\n",
       "[1303 rows x 2 columns]"
      ]
     },
     "execution_count": 69,
     "metadata": {},
     "output_type": "execute_result"
    }
   ],
   "source": [
    "new = df['ScreenResolution'].str.split('x',n=1,expand=True)\n",
    "new"
   ]
  },
  {
   "cell_type": "code",
   "execution_count": 70,
   "id": "e085812d",
   "metadata": {},
   "outputs": [],
   "source": [
    "df['res_x']=new[0]\n",
    "df['res_y']=new[1]"
   ]
  },
  {
   "cell_type": "code",
   "execution_count": 71,
   "id": "600effe4",
   "metadata": {},
   "outputs": [],
   "source": [
    "df['res_x']=df['res_x'].str.replace(',','').str.findall(r'(\\d+\\.?\\d+)').apply(lambda x:x[0])"
   ]
  },
  {
   "cell_type": "code",
   "execution_count": 72,
   "id": "652e41af",
   "metadata": {},
   "outputs": [],
   "source": [
    "df=df.drop('ScreenResolution',axis=1)"
   ]
  },
  {
   "cell_type": "code",
   "execution_count": 73,
   "id": "3e205e1e",
   "metadata": {
    "scrolled": true
   },
   "outputs": [
    {
     "data": {
      "text/html": [
       "<div>\n",
       "<style scoped>\n",
       "    .dataframe tbody tr th:only-of-type {\n",
       "        vertical-align: middle;\n",
       "    }\n",
       "\n",
       "    .dataframe tbody tr th {\n",
       "        vertical-align: top;\n",
       "    }\n",
       "\n",
       "    .dataframe thead th {\n",
       "        text-align: right;\n",
       "    }\n",
       "</style>\n",
       "<table border=\"1\" class=\"dataframe\">\n",
       "  <thead>\n",
       "    <tr style=\"text-align: right;\">\n",
       "      <th></th>\n",
       "      <th>Company</th>\n",
       "      <th>Product</th>\n",
       "      <th>TypeName</th>\n",
       "      <th>Inches</th>\n",
       "      <th>Cpu</th>\n",
       "      <th>Ram</th>\n",
       "      <th>Gpu</th>\n",
       "      <th>OpSys</th>\n",
       "      <th>Weight</th>\n",
       "      <th>Price_euros</th>\n",
       "      <th>storage</th>\n",
       "      <th>storage_type</th>\n",
       "      <th>Touchscreen</th>\n",
       "      <th>Ips</th>\n",
       "      <th>res_x</th>\n",
       "      <th>res_y</th>\n",
       "    </tr>\n",
       "  </thead>\n",
       "  <tbody>\n",
       "    <tr>\n",
       "      <th>0</th>\n",
       "      <td>Apple</td>\n",
       "      <td>MacBook Pro</td>\n",
       "      <td>Ultrabook</td>\n",
       "      <td>13.3</td>\n",
       "      <td>Intel Core i5 2.3GHz</td>\n",
       "      <td>8</td>\n",
       "      <td>Intel Iris Plus Graphics 640</td>\n",
       "      <td>macOS</td>\n",
       "      <td>1.37</td>\n",
       "      <td>1339.69</td>\n",
       "      <td>128</td>\n",
       "      <td>SSD</td>\n",
       "      <td>0</td>\n",
       "      <td>1</td>\n",
       "      <td>2560</td>\n",
       "      <td>1600</td>\n",
       "    </tr>\n",
       "    <tr>\n",
       "      <th>1</th>\n",
       "      <td>Apple</td>\n",
       "      <td>Macbook Air</td>\n",
       "      <td>Ultrabook</td>\n",
       "      <td>13.3</td>\n",
       "      <td>Intel Core i5 1.8GHz</td>\n",
       "      <td>8</td>\n",
       "      <td>Intel HD Graphics 6000</td>\n",
       "      <td>macOS</td>\n",
       "      <td>1.34</td>\n",
       "      <td>898.94</td>\n",
       "      <td>128</td>\n",
       "      <td>Flash Storage</td>\n",
       "      <td>0</td>\n",
       "      <td>0</td>\n",
       "      <td>1440</td>\n",
       "      <td>900</td>\n",
       "    </tr>\n",
       "    <tr>\n",
       "      <th>2</th>\n",
       "      <td>HP</td>\n",
       "      <td>250 G6</td>\n",
       "      <td>Notebook</td>\n",
       "      <td>15.6</td>\n",
       "      <td>Intel Core i5 7200U 2.5GHz</td>\n",
       "      <td>8</td>\n",
       "      <td>Intel HD Graphics 620</td>\n",
       "      <td>No OS</td>\n",
       "      <td>1.86</td>\n",
       "      <td>575.00</td>\n",
       "      <td>256</td>\n",
       "      <td>SSD</td>\n",
       "      <td>0</td>\n",
       "      <td>0</td>\n",
       "      <td>1920</td>\n",
       "      <td>1080</td>\n",
       "    </tr>\n",
       "    <tr>\n",
       "      <th>3</th>\n",
       "      <td>Apple</td>\n",
       "      <td>MacBook Pro</td>\n",
       "      <td>Ultrabook</td>\n",
       "      <td>15.4</td>\n",
       "      <td>Intel Core i7 2.7GHz</td>\n",
       "      <td>16</td>\n",
       "      <td>AMD Radeon Pro 455</td>\n",
       "      <td>macOS</td>\n",
       "      <td>1.83</td>\n",
       "      <td>2537.45</td>\n",
       "      <td>512</td>\n",
       "      <td>SSD</td>\n",
       "      <td>0</td>\n",
       "      <td>1</td>\n",
       "      <td>2880</td>\n",
       "      <td>1800</td>\n",
       "    </tr>\n",
       "    <tr>\n",
       "      <th>4</th>\n",
       "      <td>Apple</td>\n",
       "      <td>MacBook Pro</td>\n",
       "      <td>Ultrabook</td>\n",
       "      <td>13.3</td>\n",
       "      <td>Intel Core i5 3.1GHz</td>\n",
       "      <td>8</td>\n",
       "      <td>Intel Iris Plus Graphics 650</td>\n",
       "      <td>macOS</td>\n",
       "      <td>1.37</td>\n",
       "      <td>1803.60</td>\n",
       "      <td>256</td>\n",
       "      <td>SSD</td>\n",
       "      <td>0</td>\n",
       "      <td>1</td>\n",
       "      <td>2560</td>\n",
       "      <td>1600</td>\n",
       "    </tr>\n",
       "  </tbody>\n",
       "</table>\n",
       "</div>"
      ],
      "text/plain": [
       "  Company      Product   TypeName  Inches                         Cpu Ram  \\\n",
       "0   Apple  MacBook Pro  Ultrabook    13.3        Intel Core i5 2.3GHz   8   \n",
       "1   Apple  Macbook Air  Ultrabook    13.3        Intel Core i5 1.8GHz   8   \n",
       "2      HP       250 G6   Notebook    15.6  Intel Core i5 7200U 2.5GHz   8   \n",
       "3   Apple  MacBook Pro  Ultrabook    15.4        Intel Core i7 2.7GHz  16   \n",
       "4   Apple  MacBook Pro  Ultrabook    13.3        Intel Core i5 3.1GHz   8   \n",
       "\n",
       "                            Gpu  OpSys Weight  Price_euros storage  \\\n",
       "0  Intel Iris Plus Graphics 640  macOS   1.37      1339.69     128   \n",
       "1        Intel HD Graphics 6000  macOS   1.34       898.94     128   \n",
       "2         Intel HD Graphics 620  No OS   1.86       575.00     256   \n",
       "3            AMD Radeon Pro 455  macOS   1.83      2537.45     512   \n",
       "4  Intel Iris Plus Graphics 650  macOS   1.37      1803.60     256   \n",
       "\n",
       "     storage_type  Touchscreen  Ips res_x res_y  \n",
       "0             SSD            0    1  2560  1600  \n",
       "1   Flash Storage            0    0  1440   900  \n",
       "2             SSD            0    0  1920  1080  \n",
       "3             SSD            0    1  2880  1800  \n",
       "4             SSD            0    1  2560  1600  "
      ]
     },
     "execution_count": 73,
     "metadata": {},
     "output_type": "execute_result"
    }
   ],
   "source": [
    "df.head()"
   ]
  },
  {
   "cell_type": "code",
   "execution_count": 74,
   "id": "a8437824",
   "metadata": {},
   "outputs": [],
   "source": [
    "X=df.drop('Price_euros',axis=1)\n",
    "Y=pd.DataFrame(df['Price_euros'],columns=['Price_euros'])"
   ]
  },
  {
   "cell_type": "markdown",
   "id": "9cf04887",
   "metadata": {},
   "source": [
    "#### - Encoding"
   ]
  },
  {
   "cell_type": "code",
   "execution_count": 75,
   "id": "21dda387",
   "metadata": {},
   "outputs": [],
   "source": [
    "from sklearn.preprocessing import LabelEncoder,StandardScaler\n",
    "les={}\n",
    "for cols in X.drop(['Weight','Ram','Inches','storage','res_x','res_y','Ips','Touchscreen'],axis=1).columns:\n",
    "    les[cols]=LabelEncoder()\n",
    "    X[cols]= les[cols].fit_transform(X[cols])"
   ]
  },
  {
   "cell_type": "markdown",
   "id": "63c26592",
   "metadata": {},
   "source": [
    "#### - Standardization"
   ]
  },
  {
   "cell_type": "code",
   "execution_count": 76,
   "id": "92a6ce62",
   "metadata": {},
   "outputs": [],
   "source": [
    "scaler=StandardScaler()\n",
    "X=pd.DataFrame(scaler.fit_transform(X),columns=X.columns)"
   ]
  },
  {
   "cell_type": "code",
   "execution_count": 77,
   "id": "6374df8f",
   "metadata": {
    "scrolled": true
   },
   "outputs": [
    {
     "data": {
      "text/html": [
       "<div>\n",
       "<style scoped>\n",
       "    .dataframe tbody tr th:only-of-type {\n",
       "        vertical-align: middle;\n",
       "    }\n",
       "\n",
       "    .dataframe tbody tr th {\n",
       "        vertical-align: top;\n",
       "    }\n",
       "\n",
       "    .dataframe thead th {\n",
       "        text-align: right;\n",
       "    }\n",
       "</style>\n",
       "<table border=\"1\" class=\"dataframe\">\n",
       "  <thead>\n",
       "    <tr style=\"text-align: right;\">\n",
       "      <th></th>\n",
       "      <th>Company</th>\n",
       "      <th>Product</th>\n",
       "      <th>TypeName</th>\n",
       "      <th>Inches</th>\n",
       "      <th>Cpu</th>\n",
       "      <th>Ram</th>\n",
       "      <th>Gpu</th>\n",
       "      <th>OpSys</th>\n",
       "      <th>Weight</th>\n",
       "      <th>storage</th>\n",
       "      <th>storage_type</th>\n",
       "      <th>Touchscreen</th>\n",
       "      <th>Ips</th>\n",
       "      <th>res_x</th>\n",
       "      <th>res_y</th>\n",
       "    </tr>\n",
       "  </thead>\n",
       "  <tbody>\n",
       "    <tr>\n",
       "      <th>0</th>\n",
       "      <td>-1.333189</td>\n",
       "      <td>-0.047766</td>\n",
       "      <td>1.138779</td>\n",
       "      <td>-1.204407</td>\n",
       "      <td>-0.475914</td>\n",
       "      <td>-0.075195</td>\n",
       "      <td>0.153493</td>\n",
       "      <td>3.083616</td>\n",
       "      <td>-1.005283</td>\n",
       "      <td>-0.865234</td>\n",
       "      <td>-0.415064</td>\n",
       "      <td>-0.415713</td>\n",
       "      <td>1.603079</td>\n",
       "      <td>1.345362</td>\n",
       "      <td>1.860586</td>\n",
       "    </tr>\n",
       "    <tr>\n",
       "      <th>1</th>\n",
       "      <td>-1.333189</td>\n",
       "      <td>-0.041946</td>\n",
       "      <td>1.138779</td>\n",
       "      <td>-1.204407</td>\n",
       "      <td>-0.555339</td>\n",
       "      <td>-0.075195</td>\n",
       "      <td>-0.170358</td>\n",
       "      <td>3.083616</td>\n",
       "      <td>-1.050381</td>\n",
       "      <td>-0.865234</td>\n",
       "      <td>-1.616907</td>\n",
       "      <td>-0.415713</td>\n",
       "      <td>-0.623799</td>\n",
       "      <td>-0.919776</td>\n",
       "      <td>-0.600648</td>\n",
       "    </tr>\n",
       "    <tr>\n",
       "      <th>2</th>\n",
       "      <td>0.136477</td>\n",
       "      <td>-1.502761</td>\n",
       "      <td>0.335406</td>\n",
       "      <td>0.408772</td>\n",
       "      <td>-0.118498</td>\n",
       "      <td>-0.075195</td>\n",
       "      <td>-0.077829</td>\n",
       "      <td>-0.781657</td>\n",
       "      <td>-0.268684</td>\n",
       "      <td>-0.504425</td>\n",
       "      <td>-0.415064</td>\n",
       "      <td>-0.415713</td>\n",
       "      <td>-0.623799</td>\n",
       "      <td>0.050997</td>\n",
       "      <td>0.032241</td>\n",
       "    </tr>\n",
       "    <tr>\n",
       "      <th>3</th>\n",
       "      <td>-1.333189</td>\n",
       "      <td>-0.047766</td>\n",
       "      <td>1.138779</td>\n",
       "      <td>0.268495</td>\n",
       "      <td>0.318342</td>\n",
       "      <td>1.498767</td>\n",
       "      <td>-2.113462</td>\n",
       "      <td>3.083616</td>\n",
       "      <td>-0.313782</td>\n",
       "      <td>0.217194</td>\n",
       "      <td>-0.415064</td>\n",
       "      <td>-0.415713</td>\n",
       "      <td>1.603079</td>\n",
       "      <td>1.992544</td>\n",
       "      <td>2.563795</td>\n",
       "    </tr>\n",
       "    <tr>\n",
       "      <th>4</th>\n",
       "      <td>-1.333189</td>\n",
       "      <td>-0.047766</td>\n",
       "      <td>1.138779</td>\n",
       "      <td>-1.204407</td>\n",
       "      <td>-0.396488</td>\n",
       "      <td>-0.075195</td>\n",
       "      <td>0.199757</td>\n",
       "      <td>3.083616</td>\n",
       "      <td>-1.005283</td>\n",
       "      <td>-0.504425</td>\n",
       "      <td>-0.415064</td>\n",
       "      <td>-0.415713</td>\n",
       "      <td>1.603079</td>\n",
       "      <td>1.345362</td>\n",
       "      <td>1.860586</td>\n",
       "    </tr>\n",
       "    <tr>\n",
       "      <th>...</th>\n",
       "      <td>...</td>\n",
       "      <td>...</td>\n",
       "      <td>...</td>\n",
       "      <td>...</td>\n",
       "      <td>...</td>\n",
       "      <td>...</td>\n",
       "      <td>...</td>\n",
       "      <td>...</td>\n",
       "      <td>...</td>\n",
       "      <td>...</td>\n",
       "      <td>...</td>\n",
       "      <td>...</td>\n",
       "      <td>...</td>\n",
       "      <td>...</td>\n",
       "      <td>...</td>\n",
       "    </tr>\n",
       "    <tr>\n",
       "      <th>1298</th>\n",
       "      <td>0.871310</td>\n",
       "      <td>1.581829</td>\n",
       "      <td>-2.074710</td>\n",
       "      <td>-0.713439</td>\n",
       "      <td>0.477194</td>\n",
       "      <td>-0.862176</td>\n",
       "      <td>-0.355416</td>\n",
       "      <td>0.184661</td>\n",
       "      <td>-0.358880</td>\n",
       "      <td>-0.865234</td>\n",
       "      <td>-0.415064</td>\n",
       "      <td>2.405506</td>\n",
       "      <td>1.603079</td>\n",
       "      <td>0.050997</td>\n",
       "      <td>0.032241</td>\n",
       "    </tr>\n",
       "    <tr>\n",
       "      <th>1299</th>\n",
       "      <td>0.871310</td>\n",
       "      <td>1.628389</td>\n",
       "      <td>-2.074710</td>\n",
       "      <td>-1.204407</td>\n",
       "      <td>0.477194</td>\n",
       "      <td>1.498767</td>\n",
       "      <td>-0.355416</td>\n",
       "      <td>0.184661</td>\n",
       "      <td>-1.110512</td>\n",
       "      <td>0.217194</td>\n",
       "      <td>-0.415064</td>\n",
       "      <td>2.405506</td>\n",
       "      <td>1.603079</td>\n",
       "      <td>2.639726</td>\n",
       "      <td>2.563795</td>\n",
       "    </tr>\n",
       "    <tr>\n",
       "      <th>1300</th>\n",
       "      <td>0.871310</td>\n",
       "      <td>-0.653044</td>\n",
       "      <td>0.335406</td>\n",
       "      <td>-0.713439</td>\n",
       "      <td>-1.707010</td>\n",
       "      <td>-1.255667</td>\n",
       "      <td>-0.679266</td>\n",
       "      <td>0.184661</td>\n",
       "      <td>-0.809859</td>\n",
       "      <td>-1.045639</td>\n",
       "      <td>-1.616907</td>\n",
       "      <td>-0.415713</td>\n",
       "      <td>-0.623799</td>\n",
       "      <td>-1.069437</td>\n",
       "      <td>-1.064766</td>\n",
       "    </tr>\n",
       "    <tr>\n",
       "      <th>1301</th>\n",
       "      <td>0.136477</td>\n",
       "      <td>-1.782120</td>\n",
       "      <td>0.335406</td>\n",
       "      <td>0.408772</td>\n",
       "      <td>0.477194</td>\n",
       "      <td>-0.468686</td>\n",
       "      <td>-1.558290</td>\n",
       "      <td>0.184661</td>\n",
       "      <td>0.227393</td>\n",
       "      <td>1.592781</td>\n",
       "      <td>1.688159</td>\n",
       "      <td>-0.415713</td>\n",
       "      <td>-0.623799</td>\n",
       "      <td>-1.069437</td>\n",
       "      <td>-1.064766</td>\n",
       "    </tr>\n",
       "    <tr>\n",
       "      <th>1302</th>\n",
       "      <td>-1.088245</td>\n",
       "      <td>1.511989</td>\n",
       "      <td>0.335406</td>\n",
       "      <td>0.408772</td>\n",
       "      <td>-1.707010</td>\n",
       "      <td>-0.862176</td>\n",
       "      <td>-0.679266</td>\n",
       "      <td>0.184661</td>\n",
       "      <td>0.242426</td>\n",
       "      <td>0.183369</td>\n",
       "      <td>-1.015985</td>\n",
       "      <td>-0.415713</td>\n",
       "      <td>-0.623799</td>\n",
       "      <td>-1.069437</td>\n",
       "      <td>-1.064766</td>\n",
       "    </tr>\n",
       "  </tbody>\n",
       "</table>\n",
       "<p>1303 rows × 15 columns</p>\n",
       "</div>"
      ],
      "text/plain": [
       "       Company   Product  TypeName    Inches       Cpu       Ram       Gpu  \\\n",
       "0    -1.333189 -0.047766  1.138779 -1.204407 -0.475914 -0.075195  0.153493   \n",
       "1    -1.333189 -0.041946  1.138779 -1.204407 -0.555339 -0.075195 -0.170358   \n",
       "2     0.136477 -1.502761  0.335406  0.408772 -0.118498 -0.075195 -0.077829   \n",
       "3    -1.333189 -0.047766  1.138779  0.268495  0.318342  1.498767 -2.113462   \n",
       "4    -1.333189 -0.047766  1.138779 -1.204407 -0.396488 -0.075195  0.199757   \n",
       "...        ...       ...       ...       ...       ...       ...       ...   \n",
       "1298  0.871310  1.581829 -2.074710 -0.713439  0.477194 -0.862176 -0.355416   \n",
       "1299  0.871310  1.628389 -2.074710 -1.204407  0.477194  1.498767 -0.355416   \n",
       "1300  0.871310 -0.653044  0.335406 -0.713439 -1.707010 -1.255667 -0.679266   \n",
       "1301  0.136477 -1.782120  0.335406  0.408772  0.477194 -0.468686 -1.558290   \n",
       "1302 -1.088245  1.511989  0.335406  0.408772 -1.707010 -0.862176 -0.679266   \n",
       "\n",
       "         OpSys    Weight   storage  storage_type  Touchscreen       Ips  \\\n",
       "0     3.083616 -1.005283 -0.865234     -0.415064    -0.415713  1.603079   \n",
       "1     3.083616 -1.050381 -0.865234     -1.616907    -0.415713 -0.623799   \n",
       "2    -0.781657 -0.268684 -0.504425     -0.415064    -0.415713 -0.623799   \n",
       "3     3.083616 -0.313782  0.217194     -0.415064    -0.415713  1.603079   \n",
       "4     3.083616 -1.005283 -0.504425     -0.415064    -0.415713  1.603079   \n",
       "...        ...       ...       ...           ...          ...       ...   \n",
       "1298  0.184661 -0.358880 -0.865234     -0.415064     2.405506  1.603079   \n",
       "1299  0.184661 -1.110512  0.217194     -0.415064     2.405506  1.603079   \n",
       "1300  0.184661 -0.809859 -1.045639     -1.616907    -0.415713 -0.623799   \n",
       "1301  0.184661  0.227393  1.592781      1.688159    -0.415713 -0.623799   \n",
       "1302  0.184661  0.242426  0.183369     -1.015985    -0.415713 -0.623799   \n",
       "\n",
       "         res_x     res_y  \n",
       "0     1.345362  1.860586  \n",
       "1    -0.919776 -0.600648  \n",
       "2     0.050997  0.032241  \n",
       "3     1.992544  2.563795  \n",
       "4     1.345362  1.860586  \n",
       "...        ...       ...  \n",
       "1298  0.050997  0.032241  \n",
       "1299  2.639726  2.563795  \n",
       "1300 -1.069437 -1.064766  \n",
       "1301 -1.069437 -1.064766  \n",
       "1302 -1.069437 -1.064766  \n",
       "\n",
       "[1303 rows x 15 columns]"
      ]
     },
     "execution_count": 77,
     "metadata": {},
     "output_type": "execute_result"
    }
   ],
   "source": [
    "X"
   ]
  },
  {
   "cell_type": "code",
   "execution_count": 78,
   "id": "3b326cc8",
   "metadata": {},
   "outputs": [
    {
     "data": {
      "text/html": [
       "<div>\n",
       "<style scoped>\n",
       "    .dataframe tbody tr th:only-of-type {\n",
       "        vertical-align: middle;\n",
       "    }\n",
       "\n",
       "    .dataframe tbody tr th {\n",
       "        vertical-align: top;\n",
       "    }\n",
       "\n",
       "    .dataframe thead th {\n",
       "        text-align: right;\n",
       "    }\n",
       "</style>\n",
       "<table border=\"1\" class=\"dataframe\">\n",
       "  <thead>\n",
       "    <tr style=\"text-align: right;\">\n",
       "      <th></th>\n",
       "      <th>Company</th>\n",
       "      <th>Product</th>\n",
       "      <th>TypeName</th>\n",
       "      <th>Inches</th>\n",
       "      <th>Cpu</th>\n",
       "      <th>Ram</th>\n",
       "      <th>Gpu</th>\n",
       "      <th>OpSys</th>\n",
       "      <th>Weight</th>\n",
       "      <th>storage</th>\n",
       "      <th>storage_type</th>\n",
       "      <th>Touchscreen</th>\n",
       "      <th>Ips</th>\n",
       "      <th>res_x</th>\n",
       "      <th>res_y</th>\n",
       "      <th>Price_euros</th>\n",
       "    </tr>\n",
       "  </thead>\n",
       "  <tbody>\n",
       "    <tr>\n",
       "      <th>0</th>\n",
       "      <td>-1.333189</td>\n",
       "      <td>-0.047766</td>\n",
       "      <td>1.138779</td>\n",
       "      <td>-1.204407</td>\n",
       "      <td>-0.475914</td>\n",
       "      <td>-0.075195</td>\n",
       "      <td>0.153493</td>\n",
       "      <td>3.083616</td>\n",
       "      <td>-1.005283</td>\n",
       "      <td>-0.865234</td>\n",
       "      <td>-0.415064</td>\n",
       "      <td>-0.415713</td>\n",
       "      <td>1.603079</td>\n",
       "      <td>1.345362</td>\n",
       "      <td>1.860586</td>\n",
       "      <td>1339.69</td>\n",
       "    </tr>\n",
       "    <tr>\n",
       "      <th>1</th>\n",
       "      <td>-1.333189</td>\n",
       "      <td>-0.041946</td>\n",
       "      <td>1.138779</td>\n",
       "      <td>-1.204407</td>\n",
       "      <td>-0.555339</td>\n",
       "      <td>-0.075195</td>\n",
       "      <td>-0.170358</td>\n",
       "      <td>3.083616</td>\n",
       "      <td>-1.050381</td>\n",
       "      <td>-0.865234</td>\n",
       "      <td>-1.616907</td>\n",
       "      <td>-0.415713</td>\n",
       "      <td>-0.623799</td>\n",
       "      <td>-0.919776</td>\n",
       "      <td>-0.600648</td>\n",
       "      <td>898.94</td>\n",
       "    </tr>\n",
       "    <tr>\n",
       "      <th>2</th>\n",
       "      <td>0.136477</td>\n",
       "      <td>-1.502761</td>\n",
       "      <td>0.335406</td>\n",
       "      <td>0.408772</td>\n",
       "      <td>-0.118498</td>\n",
       "      <td>-0.075195</td>\n",
       "      <td>-0.077829</td>\n",
       "      <td>-0.781657</td>\n",
       "      <td>-0.268684</td>\n",
       "      <td>-0.504425</td>\n",
       "      <td>-0.415064</td>\n",
       "      <td>-0.415713</td>\n",
       "      <td>-0.623799</td>\n",
       "      <td>0.050997</td>\n",
       "      <td>0.032241</td>\n",
       "      <td>575.00</td>\n",
       "    </tr>\n",
       "    <tr>\n",
       "      <th>3</th>\n",
       "      <td>-1.333189</td>\n",
       "      <td>-0.047766</td>\n",
       "      <td>1.138779</td>\n",
       "      <td>0.268495</td>\n",
       "      <td>0.318342</td>\n",
       "      <td>1.498767</td>\n",
       "      <td>-2.113462</td>\n",
       "      <td>3.083616</td>\n",
       "      <td>-0.313782</td>\n",
       "      <td>0.217194</td>\n",
       "      <td>-0.415064</td>\n",
       "      <td>-0.415713</td>\n",
       "      <td>1.603079</td>\n",
       "      <td>1.992544</td>\n",
       "      <td>2.563795</td>\n",
       "      <td>2537.45</td>\n",
       "    </tr>\n",
       "    <tr>\n",
       "      <th>4</th>\n",
       "      <td>-1.333189</td>\n",
       "      <td>-0.047766</td>\n",
       "      <td>1.138779</td>\n",
       "      <td>-1.204407</td>\n",
       "      <td>-0.396488</td>\n",
       "      <td>-0.075195</td>\n",
       "      <td>0.199757</td>\n",
       "      <td>3.083616</td>\n",
       "      <td>-1.005283</td>\n",
       "      <td>-0.504425</td>\n",
       "      <td>-0.415064</td>\n",
       "      <td>-0.415713</td>\n",
       "      <td>1.603079</td>\n",
       "      <td>1.345362</td>\n",
       "      <td>1.860586</td>\n",
       "      <td>1803.60</td>\n",
       "    </tr>\n",
       "    <tr>\n",
       "      <th>...</th>\n",
       "      <td>...</td>\n",
       "      <td>...</td>\n",
       "      <td>...</td>\n",
       "      <td>...</td>\n",
       "      <td>...</td>\n",
       "      <td>...</td>\n",
       "      <td>...</td>\n",
       "      <td>...</td>\n",
       "      <td>...</td>\n",
       "      <td>...</td>\n",
       "      <td>...</td>\n",
       "      <td>...</td>\n",
       "      <td>...</td>\n",
       "      <td>...</td>\n",
       "      <td>...</td>\n",
       "      <td>...</td>\n",
       "    </tr>\n",
       "    <tr>\n",
       "      <th>1298</th>\n",
       "      <td>0.871310</td>\n",
       "      <td>1.581829</td>\n",
       "      <td>-2.074710</td>\n",
       "      <td>-0.713439</td>\n",
       "      <td>0.477194</td>\n",
       "      <td>-0.862176</td>\n",
       "      <td>-0.355416</td>\n",
       "      <td>0.184661</td>\n",
       "      <td>-0.358880</td>\n",
       "      <td>-0.865234</td>\n",
       "      <td>-0.415064</td>\n",
       "      <td>2.405506</td>\n",
       "      <td>1.603079</td>\n",
       "      <td>0.050997</td>\n",
       "      <td>0.032241</td>\n",
       "      <td>638.00</td>\n",
       "    </tr>\n",
       "    <tr>\n",
       "      <th>1299</th>\n",
       "      <td>0.871310</td>\n",
       "      <td>1.628389</td>\n",
       "      <td>-2.074710</td>\n",
       "      <td>-1.204407</td>\n",
       "      <td>0.477194</td>\n",
       "      <td>1.498767</td>\n",
       "      <td>-0.355416</td>\n",
       "      <td>0.184661</td>\n",
       "      <td>-1.110512</td>\n",
       "      <td>0.217194</td>\n",
       "      <td>-0.415064</td>\n",
       "      <td>2.405506</td>\n",
       "      <td>1.603079</td>\n",
       "      <td>2.639726</td>\n",
       "      <td>2.563795</td>\n",
       "      <td>1499.00</td>\n",
       "    </tr>\n",
       "    <tr>\n",
       "      <th>1300</th>\n",
       "      <td>0.871310</td>\n",
       "      <td>-0.653044</td>\n",
       "      <td>0.335406</td>\n",
       "      <td>-0.713439</td>\n",
       "      <td>-1.707010</td>\n",
       "      <td>-1.255667</td>\n",
       "      <td>-0.679266</td>\n",
       "      <td>0.184661</td>\n",
       "      <td>-0.809859</td>\n",
       "      <td>-1.045639</td>\n",
       "      <td>-1.616907</td>\n",
       "      <td>-0.415713</td>\n",
       "      <td>-0.623799</td>\n",
       "      <td>-1.069437</td>\n",
       "      <td>-1.064766</td>\n",
       "      <td>229.00</td>\n",
       "    </tr>\n",
       "    <tr>\n",
       "      <th>1301</th>\n",
       "      <td>0.136477</td>\n",
       "      <td>-1.782120</td>\n",
       "      <td>0.335406</td>\n",
       "      <td>0.408772</td>\n",
       "      <td>0.477194</td>\n",
       "      <td>-0.468686</td>\n",
       "      <td>-1.558290</td>\n",
       "      <td>0.184661</td>\n",
       "      <td>0.227393</td>\n",
       "      <td>1.592781</td>\n",
       "      <td>1.688159</td>\n",
       "      <td>-0.415713</td>\n",
       "      <td>-0.623799</td>\n",
       "      <td>-1.069437</td>\n",
       "      <td>-1.064766</td>\n",
       "      <td>764.00</td>\n",
       "    </tr>\n",
       "    <tr>\n",
       "      <th>1302</th>\n",
       "      <td>-1.088245</td>\n",
       "      <td>1.511989</td>\n",
       "      <td>0.335406</td>\n",
       "      <td>0.408772</td>\n",
       "      <td>-1.707010</td>\n",
       "      <td>-0.862176</td>\n",
       "      <td>-0.679266</td>\n",
       "      <td>0.184661</td>\n",
       "      <td>0.242426</td>\n",
       "      <td>0.183369</td>\n",
       "      <td>-1.015985</td>\n",
       "      <td>-0.415713</td>\n",
       "      <td>-0.623799</td>\n",
       "      <td>-1.069437</td>\n",
       "      <td>-1.064766</td>\n",
       "      <td>369.00</td>\n",
       "    </tr>\n",
       "  </tbody>\n",
       "</table>\n",
       "<p>1303 rows × 16 columns</p>\n",
       "</div>"
      ],
      "text/plain": [
       "       Company   Product  TypeName    Inches       Cpu       Ram       Gpu  \\\n",
       "0    -1.333189 -0.047766  1.138779 -1.204407 -0.475914 -0.075195  0.153493   \n",
       "1    -1.333189 -0.041946  1.138779 -1.204407 -0.555339 -0.075195 -0.170358   \n",
       "2     0.136477 -1.502761  0.335406  0.408772 -0.118498 -0.075195 -0.077829   \n",
       "3    -1.333189 -0.047766  1.138779  0.268495  0.318342  1.498767 -2.113462   \n",
       "4    -1.333189 -0.047766  1.138779 -1.204407 -0.396488 -0.075195  0.199757   \n",
       "...        ...       ...       ...       ...       ...       ...       ...   \n",
       "1298  0.871310  1.581829 -2.074710 -0.713439  0.477194 -0.862176 -0.355416   \n",
       "1299  0.871310  1.628389 -2.074710 -1.204407  0.477194  1.498767 -0.355416   \n",
       "1300  0.871310 -0.653044  0.335406 -0.713439 -1.707010 -1.255667 -0.679266   \n",
       "1301  0.136477 -1.782120  0.335406  0.408772  0.477194 -0.468686 -1.558290   \n",
       "1302 -1.088245  1.511989  0.335406  0.408772 -1.707010 -0.862176 -0.679266   \n",
       "\n",
       "         OpSys    Weight   storage  storage_type  Touchscreen       Ips  \\\n",
       "0     3.083616 -1.005283 -0.865234     -0.415064    -0.415713  1.603079   \n",
       "1     3.083616 -1.050381 -0.865234     -1.616907    -0.415713 -0.623799   \n",
       "2    -0.781657 -0.268684 -0.504425     -0.415064    -0.415713 -0.623799   \n",
       "3     3.083616 -0.313782  0.217194     -0.415064    -0.415713  1.603079   \n",
       "4     3.083616 -1.005283 -0.504425     -0.415064    -0.415713  1.603079   \n",
       "...        ...       ...       ...           ...          ...       ...   \n",
       "1298  0.184661 -0.358880 -0.865234     -0.415064     2.405506  1.603079   \n",
       "1299  0.184661 -1.110512  0.217194     -0.415064     2.405506  1.603079   \n",
       "1300  0.184661 -0.809859 -1.045639     -1.616907    -0.415713 -0.623799   \n",
       "1301  0.184661  0.227393  1.592781      1.688159    -0.415713 -0.623799   \n",
       "1302  0.184661  0.242426  0.183369     -1.015985    -0.415713 -0.623799   \n",
       "\n",
       "         res_x     res_y  Price_euros  \n",
       "0     1.345362  1.860586      1339.69  \n",
       "1    -0.919776 -0.600648       898.94  \n",
       "2     0.050997  0.032241       575.00  \n",
       "3     1.992544  2.563795      2537.45  \n",
       "4     1.345362  1.860586      1803.60  \n",
       "...        ...       ...          ...  \n",
       "1298  0.050997  0.032241       638.00  \n",
       "1299  2.639726  2.563795      1499.00  \n",
       "1300 -1.069437 -1.064766       229.00  \n",
       "1301 -1.069437 -1.064766       764.00  \n",
       "1302 -1.069437 -1.064766       369.00  \n",
       "\n",
       "[1303 rows x 16 columns]"
      ]
     },
     "execution_count": 78,
     "metadata": {},
     "output_type": "execute_result"
    }
   ],
   "source": [
    "df1=pd.concat([X,Y],axis=1)\n",
    "df1"
   ]
  },
  {
   "cell_type": "code",
   "execution_count": 79,
   "id": "d04f2d92",
   "metadata": {},
   "outputs": [
    {
     "data": {
      "text/plain": [
       "<AxesSubplot:>"
      ]
     },
     "execution_count": 79,
     "metadata": {},
     "output_type": "execute_result"
    },
    {
     "data": {
      "image/png": "[encoded data removed]",
      "text/plain": [
       "<Figure size 1080x864 with 2 Axes>"
      ]
     },
     "metadata": {
      "needs_background": "light"
     },
     "output_type": "display_data"
    }
   ],
   "source": [
    "plt.figure(figsize=(15,12))\n",
    "sns.heatmap(df1.corr(),annot=True)"
   ]
  },
  {
   "cell_type": "markdown",
   "id": "aff6ca35",
   "metadata": {},
   "source": [
    "## Create Training and Testing data 80:20"
   ]
  },
  {
   "cell_type": "code",
   "execution_count": 80,
   "id": "69e857eb",
   "metadata": {},
   "outputs": [],
   "source": [
    "from sklearn.model_selection import train_test_split\n",
    "from sklearn.ensemble import RandomForestRegressor\n",
    "x_train,x_test,y_train,y_test=train_test_split(X,Y,test_size=0.20,random_state=5)"
   ]
  },
  {
   "cell_type": "markdown",
   "id": "c6a5fd77",
   "metadata": {},
   "source": [
    "## Modelling using Random Forest"
   ]
  },
  {
   "cell_type": "code",
   "execution_count": 81,
   "id": "53d9eb45",
   "metadata": {},
   "outputs": [
    {
     "name": "stderr",
     "output_type": "stream",
     "text": [
      "<ipython-input-81-6b1af1fb17fd>:7: DataConversionWarning:\n",
      "\n",
      "A column-vector y was passed when a 1d array was expected. Please change the shape of y to (n_samples,), for example using ravel().\n",
      "\n"
     ]
    },
    {
     "data": {
      "text/plain": [
       "RandomForestRegressor(max_depth=40, max_features=0.7, max_samples=0.5,\n",
       "                      n_estimators=268, random_state=3)"
      ]
     },
     "execution_count": 81,
     "metadata": {},
     "output_type": "execute_result"
    }
   ],
   "source": [
    "from sklearn.ensemble import RandomForestRegressor\n",
    "rf=RandomForestRegressor(n_estimators=268,\n",
    "                              random_state=3,\n",
    "                              max_samples=0.5,\n",
    "                              max_features=0.7,\n",
    "                              max_depth=40)\n",
    "rf.fit(x_train,y_train)\n"
   ]
  },
  {
   "cell_type": "code",
   "execution_count": 82,
   "id": "cae2a6b5",
   "metadata": {},
   "outputs": [],
   "source": [
    "y_pred=rf.predict(x_test)"
   ]
  },
  {
   "cell_type": "code",
   "execution_count": 83,
   "id": "b90ac658",
   "metadata": {},
   "outputs": [
    {
     "data": {
      "text/plain": [
       "0.9364485023167847"
      ]
     },
     "execution_count": 83,
     "metadata": {},
     "output_type": "execute_result"
    }
   ],
   "source": [
    "rf.score(x_train,y_train)"
   ]
  },
  {
   "cell_type": "code",
   "execution_count": 84,
   "id": "fe0bd228",
   "metadata": {
    "scrolled": true
   },
   "outputs": [
    {
     "data": {
      "text/plain": [
       "0.8987803324594116"
      ]
     },
     "execution_count": 84,
     "metadata": {},
     "output_type": "execute_result"
    }
   ],
   "source": [
    "rf.score(x_test,y_test)"
   ]
  },
  {
   "cell_type": "code",
   "execution_count": 85,
   "id": "a64a374a",
   "metadata": {},
   "outputs": [
    {
     "name": "stdout",
     "output_type": "stream",
     "text": [
      "3.766816985737309%\n"
     ]
    }
   ],
   "source": [
    "print(str((rf.score(x_train,y_train)-rf.score(x_test,y_test))*100)+'%')"
   ]
  },
  {
   "cell_type": "markdown",
   "id": "bf3c3e4e",
   "metadata": {},
   "source": [
    "## Linear Regression"
   ]
  },
  {
   "cell_type": "code",
   "execution_count": 86,
   "id": "82a297fe",
   "metadata": {},
   "outputs": [
    {
     "data": {
      "text/plain": [
       "LinearRegression()"
      ]
     },
     "execution_count": 86,
     "metadata": {},
     "output_type": "execute_result"
    }
   ],
   "source": [
    "from sklearn.linear_model import LinearRegression\n",
    "lr=LinearRegression()\n",
    "lr.fit(x_train,y_train)"
   ]
  },
  {
   "cell_type": "code",
   "execution_count": 87,
   "id": "eb3e1a8f",
   "metadata": {},
   "outputs": [],
   "source": [
    "y_pred=lr.predict(x_test)"
   ]
  },
  {
   "cell_type": "code",
   "execution_count": 88,
   "id": "90924901",
   "metadata": {},
   "outputs": [
    {
     "data": {
      "text/plain": [
       "0.6959708263687701"
      ]
     },
     "execution_count": 88,
     "metadata": {},
     "output_type": "execute_result"
    }
   ],
   "source": [
    "lr.score(x_train,y_train)"
   ]
  },
  {
   "cell_type": "code",
   "execution_count": 89,
   "id": "39ea49ab",
   "metadata": {},
   "outputs": [
    {
     "data": {
      "text/plain": [
       "0.7559024162301107"
      ]
     },
     "execution_count": 89,
     "metadata": {},
     "output_type": "execute_result"
    }
   ],
   "source": [
    "lr.score(x_test,y_test)"
   ]
  },
  {
   "cell_type": "markdown",
   "id": "4b80701e",
   "metadata": {},
   "source": [
    "## XGBoost"
   ]
  },
  {
   "cell_type": "code",
   "execution_count": 90,
   "id": "47cf54ab",
   "metadata": {},
   "outputs": [
    {
     "data": {
      "text/plain": [
       "XGBRegressor(base_score=0.5, booster='gbtree', colsample_bylevel=1,\n",
       "             colsample_bynode=1, colsample_bytree=0.6, eta=0.1, gamma=0,\n",
       "             gpu_id=-1, importance_type='gain', interaction_constraints='',\n",
       "             learning_rate=0.100000001, max_delta_step=0, max_depth=40,\n",
       "             min_child_weight=1, missing=nan, monotone_constraints='()',\n",
       "             n_estimators=268, n_jobs=8, num_parallel_tree=1, random_state=0,\n",
       "             reg_alpha=0, reg_lambda=1, scale_pos_weight=1, subsample=0.5,\n",
       "             tree_method='exact', validate_parameters=1, verbosity=None)"
      ]
     },
     "execution_count": 90,
     "metadata": {},
     "output_type": "execute_result"
    }
   ],
   "source": [
    "from xgboost import XGBRegressor\n",
    "xgb = XGBRegressor(n_estimators=268, max_depth=40, eta=0.1, subsample=0.5, colsample_bytree=0.6)\n",
    "xgb.fit(x_train,y_train)"
   ]
  },
  {
   "cell_type": "code",
   "execution_count": 91,
   "id": "46cd1e9e",
   "metadata": {},
   "outputs": [
    {
     "data": {
      "text/plain": [
       "0.9995908713963246"
      ]
     },
     "execution_count": 91,
     "metadata": {},
     "output_type": "execute_result"
    }
   ],
   "source": [
    "xgb.score(x_train,y_train)"
   ]
  },
  {
   "cell_type": "code",
   "execution_count": 92,
   "id": "753a5374",
   "metadata": {},
   "outputs": [
    {
     "data": {
      "text/plain": [
       "0.918539322525327"
      ]
     },
     "execution_count": 92,
     "metadata": {},
     "output_type": "execute_result"
    }
   ],
   "source": [
    "xgb.score(x_test,y_test)"
   ]
  },
  {
   "cell_type": "markdown",
   "id": "1fea8ee2",
   "metadata": {},
   "source": [
    "## Decision Tree"
   ]
  },
  {
   "cell_type": "code",
   "execution_count": 93,
   "id": "490543a8",
   "metadata": {},
   "outputs": [
    {
     "data": {
      "text/plain": [
       "DecisionTreeRegressor(max_depth=40, max_features=0.99, min_samples_leaf=5,\n",
       "                      min_weight_fraction_leaf=0.01, random_state=14)"
      ]
     },
     "execution_count": 93,
     "metadata": {},
     "output_type": "execute_result"
    }
   ],
   "source": [
    "from sklearn.tree import DecisionTreeRegressor\n",
    "dt=DecisionTreeRegressor(splitter=\"best\",\n",
    "                         max_depth=40,\n",
    "                         min_samples_leaf=5,\n",
    "                         min_weight_fraction_leaf=.01,\n",
    "                         max_features=0.99,\n",
    "                         random_state=14\n",
    "                        )\n",
    "dt.fit(x_train,y_train)"
   ]
  },
  {
   "cell_type": "code",
   "execution_count": 94,
   "id": "891889f4",
   "metadata": {},
   "outputs": [
    {
     "data": {
      "text/plain": [
       "0.8242568191593758"
      ]
     },
     "execution_count": 94,
     "metadata": {},
     "output_type": "execute_result"
    }
   ],
   "source": [
    "dt.score(x_train,y_train)"
   ]
  },
  {
   "cell_type": "code",
   "execution_count": 95,
   "id": "6b09fa1b",
   "metadata": {},
   "outputs": [
    {
     "data": {
      "text/plain": [
       "0.8199125670118839"
      ]
     },
     "execution_count": 95,
     "metadata": {},
     "output_type": "execute_result"
    }
   ],
   "source": [
    "dt.score(x_test,y_test)"
   ]
  },
  {
   "cell_type": "code",
   "execution_count": 96,
   "id": "ea17a530",
   "metadata": {},
   "outputs": [
    {
     "name": "stdout",
     "output_type": "stream",
     "text": [
      "0.43442521474919005%\n"
     ]
    }
   ],
   "source": [
    "print(str((dt.score(x_train,y_train)-dt.score(x_test,y_test))*100)+'%')"
   ]
  },
  {
   "cell_type": "markdown",
   "id": "1f3ce5dc",
   "metadata": {},
   "source": [
    "## Create Training and Testing data 70:30\n"
   ]
  },
  {
   "cell_type": "code",
   "execution_count": 97,
   "id": "9303bc57",
   "metadata": {},
   "outputs": [],
   "source": [
    "from sklearn.model_selection import train_test_split\n",
    "from sklearn.ensemble import RandomForestRegressor\n",
    "x_train,x_test,y_train,y_test=train_test_split(X,Y,test_size=0.30,random_state=5)"
   ]
  },
  {
   "cell_type": "markdown",
   "id": "9f9369fb",
   "metadata": {},
   "source": [
    "## Modelling using Random Forest\n"
   ]
  },
  {
   "cell_type": "code",
   "execution_count": 98,
   "id": "55adbaef",
   "metadata": {},
   "outputs": [
    {
     "name": "stderr",
     "output_type": "stream",
     "text": [
      "<ipython-input-98-6b1af1fb17fd>:7: DataConversionWarning:\n",
      "\n",
      "A column-vector y was passed when a 1d array was expected. Please change the shape of y to (n_samples,), for example using ravel().\n",
      "\n"
     ]
    },
    {
     "data": {
      "text/plain": [
       "RandomForestRegressor(max_depth=40, max_features=0.7, max_samples=0.5,\n",
       "                      n_estimators=268, random_state=3)"
      ]
     },
     "execution_count": 98,
     "metadata": {},
     "output_type": "execute_result"
    }
   ],
   "source": [
    "from sklearn.ensemble import RandomForestRegressor\n",
    "rf=RandomForestRegressor(n_estimators=268,\n",
    "                              random_state=3,\n",
    "                              max_samples=0.5,\n",
    "                              max_features=0.7,\n",
    "                              max_depth=40)\n",
    "rf.fit(x_train,y_train)"
   ]
  },
  {
   "cell_type": "code",
   "execution_count": 99,
   "id": "74633d64",
   "metadata": {},
   "outputs": [
    {
     "data": {
      "text/plain": [
       "0.9326904444164398"
      ]
     },
     "execution_count": 99,
     "metadata": {},
     "output_type": "execute_result"
    }
   ],
   "source": [
    "y_pred=rf.predict(x_test)\n",
    "rf.score(x_train,y_train)\n"
   ]
  },
  {
   "cell_type": "code",
   "execution_count": 100,
   "id": "2f450824",
   "metadata": {},
   "outputs": [
    {
     "data": {
      "text/plain": [
       "0.8362611709664983"
      ]
     },
     "execution_count": 100,
     "metadata": {},
     "output_type": "execute_result"
    }
   ],
   "source": [
    "rf.score(x_test,y_test)"
   ]
  },
  {
   "cell_type": "code",
   "execution_count": 101,
   "id": "d99aa4c4",
   "metadata": {},
   "outputs": [
    {
     "name": "stdout",
     "output_type": "stream",
     "text": [
      "9.642927344994145%\n"
     ]
    }
   ],
   "source": [
    "print(str((rf.score(x_train,y_train)-rf.score(x_test,y_test))*100)+'%')"
   ]
  },
  {
   "cell_type": "markdown",
   "id": "da4642ee",
   "metadata": {},
   "source": [
    "## Linear Regression\n"
   ]
  },
  {
   "cell_type": "code",
   "execution_count": 102,
   "id": "1b195df0",
   "metadata": {},
   "outputs": [
    {
     "data": {
      "text/plain": [
       "LinearRegression()"
      ]
     },
     "execution_count": 102,
     "metadata": {},
     "output_type": "execute_result"
    }
   ],
   "source": [
    "from sklearn.linear_model import LinearRegression\n",
    "lr=LinearRegression()\n",
    "lr.fit(x_train,y_train)"
   ]
  },
  {
   "cell_type": "code",
   "execution_count": 103,
   "id": "e7cc8c3a",
   "metadata": {},
   "outputs": [
    {
     "data": {
      "text/plain": [
       "0.67520163497949"
      ]
     },
     "execution_count": 103,
     "metadata": {},
     "output_type": "execute_result"
    }
   ],
   "source": [
    "y_pred=lr.predict(x_test)\n",
    "lr.score(x_train,y_train)"
   ]
  },
  {
   "cell_type": "code",
   "execution_count": 104,
   "id": "3530ddb6",
   "metadata": {},
   "outputs": [
    {
     "data": {
      "text/plain": [
       "0.7639158546309313"
      ]
     },
     "execution_count": 104,
     "metadata": {},
     "output_type": "execute_result"
    }
   ],
   "source": [
    "lr.score(x_test,y_test)"
   ]
  },
  {
   "cell_type": "markdown",
   "id": "317dbe5e",
   "metadata": {},
   "source": [
    "## XGBoost\n"
   ]
  },
  {
   "cell_type": "code",
   "execution_count": 105,
   "id": "7dd2647a",
   "metadata": {},
   "outputs": [
    {
     "data": {
      "text/plain": [
       "XGBRegressor(base_score=0.5, booster='gbtree', colsample_bylevel=1,\n",
       "             colsample_bynode=1, colsample_bytree=0.6, eta=0.1, gamma=0,\n",
       "             gpu_id=-1, importance_type='gain', interaction_constraints='',\n",
       "             learning_rate=0.100000001, max_delta_step=0, max_depth=40,\n",
       "             min_child_weight=1, missing=nan, monotone_constraints='()',\n",
       "             n_estimators=268, n_jobs=8, num_parallel_tree=1, random_state=0,\n",
       "             reg_alpha=0, reg_lambda=1, scale_pos_weight=1, subsample=0.5,\n",
       "             tree_method='exact', validate_parameters=1, verbosity=None)"
      ]
     },
     "execution_count": 105,
     "metadata": {},
     "output_type": "execute_result"
    }
   ],
   "source": [
    "from xgboost import XGBRegressor\n",
    "xgb = XGBRegressor(n_estimators=268, max_depth=40, eta=0.1, subsample=0.5, colsample_bytree=0.6)\n",
    "xgb.fit(x_train,y_train)"
   ]
  },
  {
   "cell_type": "code",
   "execution_count": 106,
   "id": "f43eb89e",
   "metadata": {},
   "outputs": [
    {
     "data": {
      "text/plain": [
       "0.9996661539136247"
      ]
     },
     "execution_count": 106,
     "metadata": {},
     "output_type": "execute_result"
    }
   ],
   "source": [
    "xgb.score(x_train,y_train)"
   ]
  },
  {
   "cell_type": "code",
   "execution_count": 107,
   "id": "87e379c9",
   "metadata": {},
   "outputs": [
    {
     "data": {
      "text/plain": [
       "0.894359134391882"
      ]
     },
     "execution_count": 107,
     "metadata": {},
     "output_type": "execute_result"
    }
   ],
   "source": [
    "xgb.score(x_test,y_test)"
   ]
  },
  {
   "cell_type": "markdown",
   "id": "f5ad1e52",
   "metadata": {},
   "source": [
    "## Decision Tree\n"
   ]
  },
  {
   "cell_type": "code",
   "execution_count": 108,
   "id": "c6420fb9",
   "metadata": {},
   "outputs": [
    {
     "data": {
      "text/plain": [
       "DecisionTreeRegressor(max_depth=40, max_features=0.99, min_samples_leaf=5,\n",
       "                      min_weight_fraction_leaf=0.01, random_state=14)"
      ]
     },
     "execution_count": 108,
     "metadata": {},
     "output_type": "execute_result"
    }
   ],
   "source": [
    "from sklearn.tree import DecisionTreeRegressor\n",
    "dt=DecisionTreeRegressor(splitter=\"best\",\n",
    "                         max_depth=40,\n",
    "                         min_samples_leaf=5,\n",
    "                         min_weight_fraction_leaf=.01,\n",
    "                         max_features=0.99,\n",
    "                         random_state=14\n",
    "                        )\n",
    "dt.fit(x_train,y_train)"
   ]
  },
  {
   "cell_type": "code",
   "execution_count": 109,
   "id": "137234e1",
   "metadata": {},
   "outputs": [
    {
     "data": {
      "text/plain": [
       "0.8242766176513705"
      ]
     },
     "execution_count": 109,
     "metadata": {},
     "output_type": "execute_result"
    }
   ],
   "source": [
    "dt.score(x_train,y_train)"
   ]
  },
  {
   "cell_type": "code",
   "execution_count": 110,
   "id": "ae1fbdfb",
   "metadata": {},
   "outputs": [
    {
     "data": {
      "text/plain": [
       "0.7346160163955524"
      ]
     },
     "execution_count": 110,
     "metadata": {},
     "output_type": "execute_result"
    }
   ],
   "source": [
    "dt.score(x_test,y_test)"
   ]
  },
  {
   "cell_type": "code",
   "execution_count": 111,
   "id": "2158170c",
   "metadata": {},
   "outputs": [
    {
     "name": "stdout",
     "output_type": "stream",
     "text": [
      "8.966060125581809%\n"
     ]
    }
   ],
   "source": [
    "print(str((dt.score(x_train,y_train)-dt.score(x_test,y_test))*100)+'%')"
   ]
  },
  {
   "cell_type": "markdown",
   "id": "b26c7733",
   "metadata": {},
   "source": [
    "## Create Training and Testing data 60:40"
   ]
  },
  {
   "cell_type": "code",
   "execution_count": 112,
   "id": "d2b0f45c",
   "metadata": {},
   "outputs": [],
   "source": [
    "from sklearn.model_selection import train_test_split\n",
    "from sklearn.ensemble import RandomForestRegressor\n",
    "x_train,x_test,y_train,y_test=train_test_split(X,Y,test_size=0.40,random_state=5)"
   ]
  },
  {
   "cell_type": "markdown",
   "id": "8a4ed714",
   "metadata": {},
   "source": [
    "## Modelling using Random Forest\n"
   ]
  },
  {
   "cell_type": "code",
   "execution_count": 113,
   "id": "97a5acb0",
   "metadata": {},
   "outputs": [
    {
     "name": "stderr",
     "output_type": "stream",
     "text": [
      "<ipython-input-113-6b1af1fb17fd>:7: DataConversionWarning:\n",
      "\n",
      "A column-vector y was passed when a 1d array was expected. Please change the shape of y to (n_samples,), for example using ravel().\n",
      "\n"
     ]
    },
    {
     "data": {
      "text/plain": [
       "RandomForestRegressor(max_depth=40, max_features=0.7, max_samples=0.5,\n",
       "                      n_estimators=268, random_state=3)"
      ]
     },
     "execution_count": 113,
     "metadata": {},
     "output_type": "execute_result"
    }
   ],
   "source": [
    "from sklearn.ensemble import RandomForestRegressor\n",
    "rf=RandomForestRegressor(n_estimators=268,\n",
    "                              random_state=3,\n",
    "                              max_samples=0.5,\n",
    "                              max_features=0.7,\n",
    "                              max_depth=40)\n",
    "rf.fit(x_train,y_train)"
   ]
  },
  {
   "cell_type": "code",
   "execution_count": 114,
   "id": "caf4f428",
   "metadata": {},
   "outputs": [
    {
     "data": {
      "text/plain": [
       "0.9284452725277166"
      ]
     },
     "execution_count": 114,
     "metadata": {},
     "output_type": "execute_result"
    }
   ],
   "source": [
    "y_pred=rf.predict(x_test)\n",
    "rf.score(x_train,y_train)"
   ]
  },
  {
   "cell_type": "code",
   "execution_count": 115,
   "id": "374323e2",
   "metadata": {},
   "outputs": [
    {
     "data": {
      "text/plain": [
       "0.8348472873973418"
      ]
     },
     "execution_count": 115,
     "metadata": {},
     "output_type": "execute_result"
    }
   ],
   "source": [
    "rf.score(x_test,y_test)"
   ]
  },
  {
   "cell_type": "code",
   "execution_count": 116,
   "id": "63b1798a",
   "metadata": {},
   "outputs": [
    {
     "name": "stdout",
     "output_type": "stream",
     "text": [
      "9.359798513037475%\n"
     ]
    }
   ],
   "source": [
    "print(str((rf.score(x_train,y_train)-rf.score(x_test,y_test))*100)+'%')"
   ]
  },
  {
   "cell_type": "markdown",
   "id": "252ef61d",
   "metadata": {},
   "source": [
    "## Linear Regression"
   ]
  },
  {
   "cell_type": "code",
   "execution_count": 117,
   "id": "20c1ea1b",
   "metadata": {},
   "outputs": [
    {
     "data": {
      "text/plain": [
       "LinearRegression()"
      ]
     },
     "execution_count": 117,
     "metadata": {},
     "output_type": "execute_result"
    }
   ],
   "source": [
    "from sklearn.linear_model import LinearRegression\n",
    "lr=LinearRegression()\n",
    "lr.fit(x_train,y_train)"
   ]
  },
  {
   "cell_type": "code",
   "execution_count": 118,
   "id": "8ffdbfcb",
   "metadata": {},
   "outputs": [
    {
     "data": {
      "text/plain": [
       "0.6724209350674866"
      ]
     },
     "execution_count": 118,
     "metadata": {},
     "output_type": "execute_result"
    }
   ],
   "source": [
    "y_pred=lr.predict(x_test)\n",
    "lr.score(x_train,y_train)"
   ]
  },
  {
   "cell_type": "code",
   "execution_count": 119,
   "id": "259573db",
   "metadata": {},
   "outputs": [
    {
     "data": {
      "text/plain": [
       "0.7506646270891456"
      ]
     },
     "execution_count": 119,
     "metadata": {},
     "output_type": "execute_result"
    }
   ],
   "source": [
    "lr.score(x_test,y_test)"
   ]
  },
  {
   "cell_type": "markdown",
   "id": "9688da5b",
   "metadata": {},
   "source": [
    "## XGBoost\n"
   ]
  },
  {
   "cell_type": "code",
   "execution_count": 120,
   "id": "70df5d8c",
   "metadata": {},
   "outputs": [
    {
     "data": {
      "text/plain": [
       "XGBRegressor(base_score=0.5, booster='gbtree', colsample_bylevel=1,\n",
       "             colsample_bynode=1, colsample_bytree=0.6, eta=0.1, gamma=0,\n",
       "             gpu_id=-1, importance_type='gain', interaction_constraints='',\n",
       "             learning_rate=0.100000001, max_delta_step=0, max_depth=40,\n",
       "             min_child_weight=1, missing=nan, monotone_constraints='()',\n",
       "             n_estimators=268, n_jobs=8, num_parallel_tree=1, random_state=0,\n",
       "             reg_alpha=0, reg_lambda=1, scale_pos_weight=1, subsample=0.5,\n",
       "             tree_method='exact', validate_parameters=1, verbosity=None)"
      ]
     },
     "execution_count": 120,
     "metadata": {},
     "output_type": "execute_result"
    }
   ],
   "source": [
    "from xgboost import XGBRegressor\n",
    "xgb = XGBRegressor(n_estimators=268, max_depth=40, eta=0.1, subsample=0.5, colsample_bytree=0.6)\n",
    "xgb.fit(x_train,y_train)"
   ]
  },
  {
   "cell_type": "code",
   "execution_count": 121,
   "id": "981f71b0",
   "metadata": {},
   "outputs": [
    {
     "data": {
      "text/plain": [
       "0.999641360703653"
      ]
     },
     "execution_count": 121,
     "metadata": {},
     "output_type": "execute_result"
    }
   ],
   "source": [
    "xgb.score(x_train,y_train)"
   ]
  },
  {
   "cell_type": "code",
   "execution_count": 122,
   "id": "d184d33f",
   "metadata": {},
   "outputs": [
    {
     "data": {
      "text/plain": [
       "0.870126976670994"
      ]
     },
     "execution_count": 122,
     "metadata": {},
     "output_type": "execute_result"
    }
   ],
   "source": [
    "xgb.score(x_test,y_test)"
   ]
  },
  {
   "cell_type": "markdown",
   "id": "2ee13c0a",
   "metadata": {},
   "source": [
    "## Decision Tree\n"
   ]
  },
  {
   "cell_type": "code",
   "execution_count": 123,
   "id": "1eebf45c",
   "metadata": {},
   "outputs": [
    {
     "data": {
      "text/plain": [
       "DecisionTreeRegressor(max_depth=40, max_features=0.99, min_samples_leaf=5,\n",
       "                      min_weight_fraction_leaf=0.01, random_state=14)"
      ]
     },
     "execution_count": 123,
     "metadata": {},
     "output_type": "execute_result"
    }
   ],
   "source": [
    "from sklearn.tree import DecisionTreeRegressor\n",
    "dt=DecisionTreeRegressor(splitter=\"best\",\n",
    "                         max_depth=40,\n",
    "                         min_samples_leaf=5,\n",
    "                         min_weight_fraction_leaf=.01,\n",
    "                         max_features=0.99,\n",
    "                         random_state=14\n",
    "                        )\n",
    "dt.fit(x_train,y_train)"
   ]
  },
  {
   "cell_type": "code",
   "execution_count": 124,
   "id": "2a537e8e",
   "metadata": {},
   "outputs": [
    {
     "data": {
      "text/plain": [
       "0.8300146951889665"
      ]
     },
     "execution_count": 124,
     "metadata": {},
     "output_type": "execute_result"
    }
   ],
   "source": [
    "dt.score(x_train,y_train)"
   ]
  },
  {
   "cell_type": "code",
   "execution_count": 125,
   "id": "98369950",
   "metadata": {},
   "outputs": [
    {
     "data": {
      "text/plain": [
       "0.7287291391258508"
      ]
     },
     "execution_count": 125,
     "metadata": {},
     "output_type": "execute_result"
    }
   ],
   "source": [
    "dt.score(x_test,y_test)"
   ]
  },
  {
   "cell_type": "code",
   "execution_count": 126,
   "id": "f64d13e7",
   "metadata": {},
   "outputs": [
    {
     "name": "stdout",
     "output_type": "stream",
     "text": [
      "10.128555606311574%\n"
     ]
    }
   ],
   "source": [
    "print(str((dt.score(x_train,y_train)-dt.score(x_test,y_test))*100)+'%')"
   ]
  },
  {
   "cell_type": "code",
   "execution_count": null,
   "id": "2504b327",
   "metadata": {},
   "outputs": [],
   "source": []
  }
 ],
 "metadata": {
  "kernelspec": {
   "display_name": "Python 3",
   "language": "python",
   "name": "python3"
  },
  "language_info": {
   "codemirror_mode": {
    "name": "ipython",
    "version": 3
   },
   "file_extension": ".py",
   "mimetype": "text/x-python",
   "name": "python",
   "nbconvert_exporter": "python",
   "pygments_lexer": "ipython3",
   "version": "3.8.8"
  }
 },
 "nbformat": 4,
 "nbformat_minor": 5
}
